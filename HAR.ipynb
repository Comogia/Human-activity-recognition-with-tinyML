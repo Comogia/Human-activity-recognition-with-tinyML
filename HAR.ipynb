{
 "cells": [
  {
   "cell_type": "code",
   "execution_count": 1,
   "metadata": {},
   "outputs": [],
   "source": [
    "import numpy as np\n",
    "import pandas as pd\n",
    "import matplotlib.pyplot as plt\n",
    "from sklearn.model_selection import train_test_split"
   ]
  },
  {
   "cell_type": "code",
   "execution_count": 2,
   "metadata": {},
   "outputs": [
    {
     "name": "stdout",
     "output_type": "stream",
     "text": [
      "tf version: 2.0.0\n",
      "keras version: 2.2.4-tf\n"
     ]
    }
   ],
   "source": [
    "# import the package tensorflow and keras to implement artificial neural network\n",
    "import tensorflow as tf\n",
    "from tensorflow import keras\n",
    "print('tf version: ' + str(tf.__version__))\n",
    "print('keras version: ' + str(keras.__version__))"
   ]
  },
  {
   "cell_type": "code",
   "execution_count": 3,
   "metadata": {},
   "outputs": [],
   "source": [
    "from tensorflow.keras.models import Sequential\n",
    "from tensorflow.keras.layers import Dense\n",
    "from tensorflow.keras.optimizers import SGD"
   ]
  },
  {
   "cell_type": "code",
   "execution_count": 4,
   "metadata": {},
   "outputs": [
    {
     "data": {
      "text/html": [
       "<div>\n",
       "<style scoped>\n",
       "    .dataframe tbody tr th:only-of-type {\n",
       "        vertical-align: middle;\n",
       "    }\n",
       "\n",
       "    .dataframe tbody tr th {\n",
       "        vertical-align: top;\n",
       "    }\n",
       "\n",
       "    .dataframe thead th {\n",
       "        text-align: right;\n",
       "    }\n",
       "</style>\n",
       "<table border=\"1\" class=\"dataframe\">\n",
       "  <thead>\n",
       "    <tr style=\"text-align: right;\">\n",
       "      <th></th>\n",
       "      <th>0</th>\n",
       "      <th>1</th>\n",
       "      <th>2</th>\n",
       "      <th>120</th>\n",
       "      <th>121</th>\n",
       "      <th>122</th>\n",
       "    </tr>\n",
       "  </thead>\n",
       "  <tbody>\n",
       "    <tr>\n",
       "      <th>0</th>\n",
       "      <td>0.288585</td>\n",
       "      <td>-0.020294</td>\n",
       "      <td>-0.132905</td>\n",
       "      <td>-0.006101</td>\n",
       "      <td>-0.031365</td>\n",
       "      <td>0.107725</td>\n",
       "    </tr>\n",
       "    <tr>\n",
       "      <th>1</th>\n",
       "      <td>0.278419</td>\n",
       "      <td>-0.016411</td>\n",
       "      <td>-0.123520</td>\n",
       "      <td>-0.016112</td>\n",
       "      <td>-0.083894</td>\n",
       "      <td>0.100584</td>\n",
       "    </tr>\n",
       "    <tr>\n",
       "      <th>2</th>\n",
       "      <td>0.279653</td>\n",
       "      <td>-0.019467</td>\n",
       "      <td>-0.113462</td>\n",
       "      <td>-0.031698</td>\n",
       "      <td>-0.102335</td>\n",
       "      <td>0.096127</td>\n",
       "    </tr>\n",
       "  </tbody>\n",
       "</table>\n",
       "</div>"
      ],
      "text/plain": [
       "        0         1         2         120       121       122\n",
       "0  0.288585 -0.020294 -0.132905 -0.006101 -0.031365  0.107725\n",
       "1  0.278419 -0.016411 -0.123520 -0.016112 -0.083894  0.100584\n",
       "2  0.279653 -0.019467 -0.113462 -0.031698 -0.102335  0.096127"
      ]
     },
     "execution_count": 4,
     "metadata": {},
     "output_type": "execute_result"
    }
   ],
   "source": [
    "# N.B. \n",
    "'''\n",
    "1 tBodyAcc-mean()-X\n",
    "2 tBodyAcc-mean()-Y\n",
    "3 tBodyAcc-mean()-Z\n",
    "\n",
    "121 tBodyGyro-mean()-X\n",
    "122 tBodyGyro-mean()-Y\n",
    "123 tBodyGyro-mean()-Z\n",
    "'''\n",
    "\n",
    "df_features = pd.read_csv('/home/giacomo/Documenti/Doc_Uni_new/Sistemi_context_aware/Progetto/External_dataset/dataset_prof/UCI HAR Dataset/train/X_train.txt', header= None, sep= '\\s+', usecols=[0, 1, 2, 120, 121, 122])#, on_bad_lines='skip')\n",
    "df_features.iloc[:3,:]\n"
   ]
  },
  {
   "cell_type": "code",
   "execution_count": 5,
   "metadata": {},
   "outputs": [
    {
     "data": {
      "text/plain": [
       "(7352, 1)"
      ]
     },
     "execution_count": 5,
     "metadata": {},
     "output_type": "execute_result"
    }
   ],
   "source": [
    "df_label = pd.read_csv('/home/giacomo/Documenti/Doc_Uni_new/Sistemi_context_aware/Progetto/External_dataset/dataset_prof/UCI HAR Dataset/train/y_train.txt', header= None, sep= '\\s+')#, on_bad_lines='skip')\n",
    "df_label.shape"
   ]
  },
  {
   "cell_type": "code",
   "execution_count": 6,
   "metadata": {},
   "outputs": [
    {
     "data": {
      "text/html": [
       "<div>\n",
       "<style scoped>\n",
       "    .dataframe tbody tr th:only-of-type {\n",
       "        vertical-align: middle;\n",
       "    }\n",
       "\n",
       "    .dataframe tbody tr th {\n",
       "        vertical-align: top;\n",
       "    }\n",
       "\n",
       "    .dataframe thead th {\n",
       "        text-align: right;\n",
       "    }\n",
       "</style>\n",
       "<table border=\"1\" class=\"dataframe\">\n",
       "  <thead>\n",
       "    <tr style=\"text-align: right;\">\n",
       "      <th></th>\n",
       "      <th>0</th>\n",
       "    </tr>\n",
       "  </thead>\n",
       "  <tbody>\n",
       "    <tr>\n",
       "      <th>0</th>\n",
       "      <td>5</td>\n",
       "    </tr>\n",
       "    <tr>\n",
       "      <th>1</th>\n",
       "      <td>5</td>\n",
       "    </tr>\n",
       "    <tr>\n",
       "      <th>2</th>\n",
       "      <td>5</td>\n",
       "    </tr>\n",
       "    <tr>\n",
       "      <th>3</th>\n",
       "      <td>5</td>\n",
       "    </tr>\n",
       "    <tr>\n",
       "      <th>4</th>\n",
       "      <td>5</td>\n",
       "    </tr>\n",
       "    <tr>\n",
       "      <th>...</th>\n",
       "      <td>...</td>\n",
       "    </tr>\n",
       "    <tr>\n",
       "      <th>7347</th>\n",
       "      <td>2</td>\n",
       "    </tr>\n",
       "    <tr>\n",
       "      <th>7348</th>\n",
       "      <td>2</td>\n",
       "    </tr>\n",
       "    <tr>\n",
       "      <th>7349</th>\n",
       "      <td>2</td>\n",
       "    </tr>\n",
       "    <tr>\n",
       "      <th>7350</th>\n",
       "      <td>2</td>\n",
       "    </tr>\n",
       "    <tr>\n",
       "      <th>7351</th>\n",
       "      <td>2</td>\n",
       "    </tr>\n",
       "  </tbody>\n",
       "</table>\n",
       "<p>7352 rows × 1 columns</p>\n",
       "</div>"
      ],
      "text/plain": [
       "      0\n",
       "0     5\n",
       "1     5\n",
       "2     5\n",
       "3     5\n",
       "4     5\n",
       "...  ..\n",
       "7347  2\n",
       "7348  2\n",
       "7349  2\n",
       "7350  2\n",
       "7351  2\n",
       "\n",
       "[7352 rows x 1 columns]"
      ]
     },
     "execution_count": 6,
     "metadata": {},
     "output_type": "execute_result"
    }
   ],
   "source": [
    "df_label"
   ]
  },
  {
   "cell_type": "code",
   "execution_count": 7,
   "metadata": {},
   "outputs": [
    {
     "data": {
      "text/html": [
       "<div>\n",
       "<style scoped>\n",
       "    .dataframe tbody tr th:only-of-type {\n",
       "        vertical-align: middle;\n",
       "    }\n",
       "\n",
       "    .dataframe tbody tr th {\n",
       "        vertical-align: top;\n",
       "    }\n",
       "\n",
       "    .dataframe thead th {\n",
       "        text-align: right;\n",
       "    }\n",
       "</style>\n",
       "<table border=\"1\" class=\"dataframe\">\n",
       "  <thead>\n",
       "    <tr style=\"text-align: right;\">\n",
       "      <th></th>\n",
       "      <th>0</th>\n",
       "    </tr>\n",
       "  </thead>\n",
       "  <tbody>\n",
       "    <tr>\n",
       "      <th>0</th>\n",
       "      <td>4</td>\n",
       "    </tr>\n",
       "    <tr>\n",
       "      <th>1</th>\n",
       "      <td>4</td>\n",
       "    </tr>\n",
       "    <tr>\n",
       "      <th>2</th>\n",
       "      <td>4</td>\n",
       "    </tr>\n",
       "    <tr>\n",
       "      <th>3</th>\n",
       "      <td>4</td>\n",
       "    </tr>\n",
       "    <tr>\n",
       "      <th>4</th>\n",
       "      <td>4</td>\n",
       "    </tr>\n",
       "    <tr>\n",
       "      <th>...</th>\n",
       "      <td>...</td>\n",
       "    </tr>\n",
       "    <tr>\n",
       "      <th>7347</th>\n",
       "      <td>1</td>\n",
       "    </tr>\n",
       "    <tr>\n",
       "      <th>7348</th>\n",
       "      <td>1</td>\n",
       "    </tr>\n",
       "    <tr>\n",
       "      <th>7349</th>\n",
       "      <td>1</td>\n",
       "    </tr>\n",
       "    <tr>\n",
       "      <th>7350</th>\n",
       "      <td>1</td>\n",
       "    </tr>\n",
       "    <tr>\n",
       "      <th>7351</th>\n",
       "      <td>1</td>\n",
       "    </tr>\n",
       "  </tbody>\n",
       "</table>\n",
       "<p>7352 rows × 1 columns</p>\n",
       "</div>"
      ],
      "text/plain": [
       "      0\n",
       "0     4\n",
       "1     4\n",
       "2     4\n",
       "3     4\n",
       "4     4\n",
       "...  ..\n",
       "7347  1\n",
       "7348  1\n",
       "7349  1\n",
       "7350  1\n",
       "7351  1\n",
       "\n",
       "[7352 rows x 1 columns]"
      ]
     },
     "execution_count": 7,
     "metadata": {},
     "output_type": "execute_result"
    }
   ],
   "source": [
    "df_label = df_label.subtract(1, axis =1)\n",
    "df_label"
   ]
  },
  {
   "cell_type": "code",
   "execution_count": 8,
   "metadata": {},
   "outputs": [
    {
     "name": "stdout",
     "output_type": "stream",
     "text": [
      "[4 3 5 0 2 1]\n"
     ]
    }
   ],
   "source": [
    "print(df_label[0].unique())"
   ]
  },
  {
   "cell_type": "code",
   "execution_count": 9,
   "metadata": {},
   "outputs": [
    {
     "data": {
      "text/html": [
       "<div>\n",
       "<style scoped>\n",
       "    .dataframe tbody tr th:only-of-type {\n",
       "        vertical-align: middle;\n",
       "    }\n",
       "\n",
       "    .dataframe tbody tr th {\n",
       "        vertical-align: top;\n",
       "    }\n",
       "\n",
       "    .dataframe thead th {\n",
       "        text-align: right;\n",
       "    }\n",
       "</style>\n",
       "<table border=\"1\" class=\"dataframe\">\n",
       "  <thead>\n",
       "    <tr style=\"text-align: right;\">\n",
       "      <th></th>\n",
       "      <th>Acc_X</th>\n",
       "      <th>Acc_Y</th>\n",
       "      <th>Acc_Z</th>\n",
       "      <th>Gyro_X</th>\n",
       "      <th>Gyro_Y</th>\n",
       "      <th>Gyro_Z</th>\n",
       "    </tr>\n",
       "  </thead>\n",
       "  <tbody>\n",
       "    <tr>\n",
       "      <th>0</th>\n",
       "      <td>0.288585</td>\n",
       "      <td>-0.020294</td>\n",
       "      <td>-0.132905</td>\n",
       "      <td>-0.006101</td>\n",
       "      <td>-0.031365</td>\n",
       "      <td>0.107725</td>\n",
       "    </tr>\n",
       "    <tr>\n",
       "      <th>1</th>\n",
       "      <td>0.278419</td>\n",
       "      <td>-0.016411</td>\n",
       "      <td>-0.123520</td>\n",
       "      <td>-0.016112</td>\n",
       "      <td>-0.083894</td>\n",
       "      <td>0.100584</td>\n",
       "    </tr>\n",
       "    <tr>\n",
       "      <th>2</th>\n",
       "      <td>0.279653</td>\n",
       "      <td>-0.019467</td>\n",
       "      <td>-0.113462</td>\n",
       "      <td>-0.031698</td>\n",
       "      <td>-0.102335</td>\n",
       "      <td>0.096127</td>\n",
       "    </tr>\n",
       "    <tr>\n",
       "      <th>3</th>\n",
       "      <td>0.279174</td>\n",
       "      <td>-0.026201</td>\n",
       "      <td>-0.123283</td>\n",
       "      <td>-0.043410</td>\n",
       "      <td>-0.091386</td>\n",
       "      <td>0.085538</td>\n",
       "    </tr>\n",
       "    <tr>\n",
       "      <th>4</th>\n",
       "      <td>0.276629</td>\n",
       "      <td>-0.016570</td>\n",
       "      <td>-0.115362</td>\n",
       "      <td>-0.033960</td>\n",
       "      <td>-0.074708</td>\n",
       "      <td>0.077392</td>\n",
       "    </tr>\n",
       "    <tr>\n",
       "      <th>...</th>\n",
       "      <td>...</td>\n",
       "      <td>...</td>\n",
       "      <td>...</td>\n",
       "      <td>...</td>\n",
       "      <td>...</td>\n",
       "      <td>...</td>\n",
       "    </tr>\n",
       "    <tr>\n",
       "      <th>7347</th>\n",
       "      <td>0.299665</td>\n",
       "      <td>-0.057193</td>\n",
       "      <td>-0.181233</td>\n",
       "      <td>-0.035024</td>\n",
       "      <td>-0.093011</td>\n",
       "      <td>0.124412</td>\n",
       "    </tr>\n",
       "    <tr>\n",
       "      <th>7348</th>\n",
       "      <td>0.273853</td>\n",
       "      <td>-0.007749</td>\n",
       "      <td>-0.147468</td>\n",
       "      <td>0.118696</td>\n",
       "      <td>-0.095746</td>\n",
       "      <td>0.033277</td>\n",
       "    </tr>\n",
       "    <tr>\n",
       "      <th>7349</th>\n",
       "      <td>0.273387</td>\n",
       "      <td>-0.017011</td>\n",
       "      <td>-0.045022</td>\n",
       "      <td>-0.213192</td>\n",
       "      <td>0.039321</td>\n",
       "      <td>0.197982</td>\n",
       "    </tr>\n",
       "    <tr>\n",
       "      <th>7350</th>\n",
       "      <td>0.289654</td>\n",
       "      <td>-0.018843</td>\n",
       "      <td>-0.158281</td>\n",
       "      <td>-0.406205</td>\n",
       "      <td>0.068797</td>\n",
       "      <td>0.177467</td>\n",
       "    </tr>\n",
       "    <tr>\n",
       "      <th>7351</th>\n",
       "      <td>0.351503</td>\n",
       "      <td>-0.012423</td>\n",
       "      <td>-0.203867</td>\n",
       "      <td>-0.041810</td>\n",
       "      <td>-0.322506</td>\n",
       "      <td>0.038252</td>\n",
       "    </tr>\n",
       "  </tbody>\n",
       "</table>\n",
       "<p>7352 rows × 6 columns</p>\n",
       "</div>"
      ],
      "text/plain": [
       "         Acc_X     Acc_Y     Acc_Z    Gyro_X    Gyro_Y    Gyro_Z\n",
       "0     0.288585 -0.020294 -0.132905 -0.006101 -0.031365  0.107725\n",
       "1     0.278419 -0.016411 -0.123520 -0.016112 -0.083894  0.100584\n",
       "2     0.279653 -0.019467 -0.113462 -0.031698 -0.102335  0.096127\n",
       "3     0.279174 -0.026201 -0.123283 -0.043410 -0.091386  0.085538\n",
       "4     0.276629 -0.016570 -0.115362 -0.033960 -0.074708  0.077392\n",
       "...        ...       ...       ...       ...       ...       ...\n",
       "7347  0.299665 -0.057193 -0.181233 -0.035024 -0.093011  0.124412\n",
       "7348  0.273853 -0.007749 -0.147468  0.118696 -0.095746  0.033277\n",
       "7349  0.273387 -0.017011 -0.045022 -0.213192  0.039321  0.197982\n",
       "7350  0.289654 -0.018843 -0.158281 -0.406205  0.068797  0.177467\n",
       "7351  0.351503 -0.012423 -0.203867 -0.041810 -0.322506  0.038252\n",
       "\n",
       "[7352 rows x 6 columns]"
      ]
     },
     "execution_count": 9,
     "metadata": {},
     "output_type": "execute_result"
    }
   ],
   "source": [
    "df_features.columns = ['Acc_X', 'Acc_Y', 'Acc_Z', 'Gyro_X', 'Gyro_Y', 'Gyro_Z']\n",
    "df_features"
   ]
  },
  {
   "cell_type": "code",
   "execution_count": 10,
   "metadata": {},
   "outputs": [
    {
     "name": "stdout",
     "output_type": "stream",
     "text": [
      "False False\n"
     ]
    }
   ],
   "source": [
    "# check NaN values\n",
    "print(df_features.isnull().values.any(), df_label.isnull().values.any())"
   ]
  },
  {
   "cell_type": "code",
   "execution_count": 11,
   "metadata": {},
   "outputs": [],
   "source": [
    "# split train and test set\n",
    "X_train, X_test, y_train, y_test = train_test_split(df_features, df_label, test_size=0.20, random_state=10)"
   ]
  },
  {
   "cell_type": "code",
   "execution_count": 12,
   "metadata": {},
   "outputs": [
    {
     "name": "stdout",
     "output_type": "stream",
     "text": [
      "<class 'pandas.core.frame.DataFrame'> <class 'pandas.core.frame.DataFrame'> (5881, 6) (1471, 6) (5881, 1) (1471, 1)\n"
     ]
    }
   ],
   "source": [
    "print(type(X_train), type(y_train), X_train.shape, X_test.shape, y_train.shape, y_test.shape)"
   ]
  },
  {
   "cell_type": "code",
   "execution_count": 13,
   "metadata": {},
   "outputs": [
    {
     "data": {
      "text/html": [
       "<div>\n",
       "<style scoped>\n",
       "    .dataframe tbody tr th:only-of-type {\n",
       "        vertical-align: middle;\n",
       "    }\n",
       "\n",
       "    .dataframe tbody tr th {\n",
       "        vertical-align: top;\n",
       "    }\n",
       "\n",
       "    .dataframe thead th {\n",
       "        text-align: right;\n",
       "    }\n",
       "</style>\n",
       "<table border=\"1\" class=\"dataframe\">\n",
       "  <thead>\n",
       "    <tr style=\"text-align: right;\">\n",
       "      <th></th>\n",
       "      <th>Acc_X</th>\n",
       "      <th>Acc_Y</th>\n",
       "      <th>Acc_Z</th>\n",
       "      <th>Gyro_X</th>\n",
       "      <th>Gyro_Y</th>\n",
       "      <th>Gyro_Z</th>\n",
       "    </tr>\n",
       "  </thead>\n",
       "  <tbody>\n",
       "    <tr>\n",
       "      <th>333</th>\n",
       "      <td>0.222593</td>\n",
       "      <td>-0.024496</td>\n",
       "      <td>-0.153886</td>\n",
       "      <td>-0.316345</td>\n",
       "      <td>0.133484</td>\n",
       "      <td>0.178388</td>\n",
       "    </tr>\n",
       "    <tr>\n",
       "      <th>247</th>\n",
       "      <td>0.208964</td>\n",
       "      <td>-0.022743</td>\n",
       "      <td>-0.166449</td>\n",
       "      <td>-0.072932</td>\n",
       "      <td>-0.081659</td>\n",
       "      <td>0.117818</td>\n",
       "    </tr>\n",
       "    <tr>\n",
       "      <th>2793</th>\n",
       "      <td>0.274996</td>\n",
       "      <td>-0.017947</td>\n",
       "      <td>-0.113500</td>\n",
       "      <td>-0.028075</td>\n",
       "      <td>-0.071442</td>\n",
       "      <td>0.087241</td>\n",
       "    </tr>\n",
       "    <tr>\n",
       "      <th>5784</th>\n",
       "      <td>0.292406</td>\n",
       "      <td>0.009810</td>\n",
       "      <td>-0.101177</td>\n",
       "      <td>0.401727</td>\n",
       "      <td>-0.191602</td>\n",
       "      <td>0.114223</td>\n",
       "    </tr>\n",
       "    <tr>\n",
       "      <th>1628</th>\n",
       "      <td>0.277473</td>\n",
       "      <td>-0.004650</td>\n",
       "      <td>-0.090629</td>\n",
       "      <td>-0.030979</td>\n",
       "      <td>-0.082568</td>\n",
       "      <td>0.092314</td>\n",
       "    </tr>\n",
       "    <tr>\n",
       "      <th>...</th>\n",
       "      <td>...</td>\n",
       "      <td>...</td>\n",
       "      <td>...</td>\n",
       "      <td>...</td>\n",
       "      <td>...</td>\n",
       "      <td>...</td>\n",
       "    </tr>\n",
       "    <tr>\n",
       "      <th>3441</th>\n",
       "      <td>0.277831</td>\n",
       "      <td>-0.016453</td>\n",
       "      <td>-0.109082</td>\n",
       "      <td>-0.027316</td>\n",
       "      <td>-0.078491</td>\n",
       "      <td>0.086561</td>\n",
       "    </tr>\n",
       "    <tr>\n",
       "      <th>1344</th>\n",
       "      <td>0.265850</td>\n",
       "      <td>-0.035555</td>\n",
       "      <td>-0.156516</td>\n",
       "      <td>-0.004254</td>\n",
       "      <td>-0.184421</td>\n",
       "      <td>0.114037</td>\n",
       "    </tr>\n",
       "    <tr>\n",
       "      <th>4623</th>\n",
       "      <td>0.337784</td>\n",
       "      <td>-0.011351</td>\n",
       "      <td>-0.122571</td>\n",
       "      <td>-0.033599</td>\n",
       "      <td>-0.069951</td>\n",
       "      <td>0.069099</td>\n",
       "    </tr>\n",
       "    <tr>\n",
       "      <th>7293</th>\n",
       "      <td>0.270378</td>\n",
       "      <td>-0.026488</td>\n",
       "      <td>-0.061389</td>\n",
       "      <td>0.034448</td>\n",
       "      <td>-0.070005</td>\n",
       "      <td>0.051341</td>\n",
       "    </tr>\n",
       "    <tr>\n",
       "      <th>1289</th>\n",
       "      <td>0.107729</td>\n",
       "      <td>-0.000998</td>\n",
       "      <td>-0.024357</td>\n",
       "      <td>0.306096</td>\n",
       "      <td>-0.298280</td>\n",
       "      <td>0.098372</td>\n",
       "    </tr>\n",
       "  </tbody>\n",
       "</table>\n",
       "<p>5881 rows × 6 columns</p>\n",
       "</div>"
      ],
      "text/plain": [
       "         Acc_X     Acc_Y     Acc_Z    Gyro_X    Gyro_Y    Gyro_Z\n",
       "333   0.222593 -0.024496 -0.153886 -0.316345  0.133484  0.178388\n",
       "247   0.208964 -0.022743 -0.166449 -0.072932 -0.081659  0.117818\n",
       "2793  0.274996 -0.017947 -0.113500 -0.028075 -0.071442  0.087241\n",
       "5784  0.292406  0.009810 -0.101177  0.401727 -0.191602  0.114223\n",
       "1628  0.277473 -0.004650 -0.090629 -0.030979 -0.082568  0.092314\n",
       "...        ...       ...       ...       ...       ...       ...\n",
       "3441  0.277831 -0.016453 -0.109082 -0.027316 -0.078491  0.086561\n",
       "1344  0.265850 -0.035555 -0.156516 -0.004254 -0.184421  0.114037\n",
       "4623  0.337784 -0.011351 -0.122571 -0.033599 -0.069951  0.069099\n",
       "7293  0.270378 -0.026488 -0.061389  0.034448 -0.070005  0.051341\n",
       "1289  0.107729 -0.000998 -0.024357  0.306096 -0.298280  0.098372\n",
       "\n",
       "[5881 rows x 6 columns]"
      ]
     },
     "execution_count": 13,
     "metadata": {},
     "output_type": "execute_result"
    }
   ],
   "source": [
    "X_train"
   ]
  },
  {
   "cell_type": "code",
   "execution_count": 14,
   "metadata": {},
   "outputs": [
    {
     "data": {
      "text/html": [
       "<div>\n",
       "<style scoped>\n",
       "    .dataframe tbody tr th:only-of-type {\n",
       "        vertical-align: middle;\n",
       "    }\n",
       "\n",
       "    .dataframe tbody tr th {\n",
       "        vertical-align: top;\n",
       "    }\n",
       "\n",
       "    .dataframe thead th {\n",
       "        text-align: right;\n",
       "    }\n",
       "</style>\n",
       "<table border=\"1\" class=\"dataframe\">\n",
       "  <thead>\n",
       "    <tr style=\"text-align: right;\">\n",
       "      <th></th>\n",
       "      <th>0</th>\n",
       "    </tr>\n",
       "  </thead>\n",
       "  <tbody>\n",
       "    <tr>\n",
       "      <th>333</th>\n",
       "      <td>2</td>\n",
       "    </tr>\n",
       "    <tr>\n",
       "      <th>247</th>\n",
       "      <td>5</td>\n",
       "    </tr>\n",
       "    <tr>\n",
       "      <th>2793</th>\n",
       "      <td>5</td>\n",
       "    </tr>\n",
       "    <tr>\n",
       "      <th>5784</th>\n",
       "      <td>0</td>\n",
       "    </tr>\n",
       "    <tr>\n",
       "      <th>1628</th>\n",
       "      <td>4</td>\n",
       "    </tr>\n",
       "    <tr>\n",
       "      <th>...</th>\n",
       "      <td>...</td>\n",
       "    </tr>\n",
       "    <tr>\n",
       "      <th>3441</th>\n",
       "      <td>4</td>\n",
       "    </tr>\n",
       "    <tr>\n",
       "      <th>1344</th>\n",
       "      <td>3</td>\n",
       "    </tr>\n",
       "    <tr>\n",
       "      <th>4623</th>\n",
       "      <td>5</td>\n",
       "    </tr>\n",
       "    <tr>\n",
       "      <th>7293</th>\n",
       "      <td>0</td>\n",
       "    </tr>\n",
       "    <tr>\n",
       "      <th>1289</th>\n",
       "      <td>2</td>\n",
       "    </tr>\n",
       "  </tbody>\n",
       "</table>\n",
       "<p>5881 rows × 1 columns</p>\n",
       "</div>"
      ],
      "text/plain": [
       "      0\n",
       "333   2\n",
       "247   5\n",
       "2793  5\n",
       "5784  0\n",
       "1628  4\n",
       "...  ..\n",
       "3441  4\n",
       "1344  3\n",
       "4623  5\n",
       "7293  0\n",
       "1289  2\n",
       "\n",
       "[5881 rows x 1 columns]"
      ]
     },
     "execution_count": 14,
     "metadata": {},
     "output_type": "execute_result"
    }
   ],
   "source": [
    "y_train"
   ]
  },
  {
   "cell_type": "code",
   "execution_count": 15,
   "metadata": {},
   "outputs": [
    {
     "name": "stdout",
     "output_type": "stream",
     "text": [
      "<class 'numpy.ndarray'> <class 'numpy.ndarray'> (5881, 6) (1471, 6) (5881, 1) (1471, 1)\n"
     ]
    }
   ],
   "source": [
    "# create numpy array\n",
    "X_train_np = np.array(X_train)\n",
    "y_train_np = np.array(y_train)\n",
    "\n",
    "X_test_np = np.array(X_test)\n",
    "y_test_np = np.array(y_test)\n",
    "\n",
    "print(type(X_train_np), type(y_train_np), X_train.shape, X_test.shape, y_train.shape, y_test.shape)"
   ]
  },
  {
   "cell_type": "code",
   "execution_count": 16,
   "metadata": {},
   "outputs": [],
   "source": [
    "# importing random forest classifier from ensemble module\n",
    "from sklearn.ensemble import RandomForestClassifier"
   ]
  },
  {
   "cell_type": "code",
   "execution_count": 17,
   "metadata": {},
   "outputs": [],
   "source": [
    "# creating a RF classifier for comparison\n",
    "clf = RandomForestClassifier(n_estimators = 100)"
   ]
  },
  {
   "cell_type": "code",
   "execution_count": 18,
   "metadata": {},
   "outputs": [
    {
     "name": "stdout",
     "output_type": "stream",
     "text": [
      "ACCURACY OF THE MODEL:  0.6424201223657376\n"
     ]
    }
   ],
   "source": [
    "# Training the model on the training dataset\n",
    "clf.fit(X_train_np, y_train.values.ravel())\n",
    "  \n",
    "# performing classification on the test dataset\n",
    "y_class = clf.predict(X_test_np)\n",
    "  \n",
    "# metrics are used to find accuracy or error\n",
    "from sklearn import metrics  \n",
    "  \n",
    "# using metrics module for accuracy calculation\n",
    "print(\"ACCURACY OF THE MODEL: \", metrics.accuracy_score(y_test_np, y_class))"
   ]
  },
  {
   "cell_type": "code",
   "execution_count": 19,
   "metadata": {},
   "outputs": [],
   "source": [
    "# Implementing feedforward neural networks with Keras and TensorFlow\n",
    "# define the 64-64-6 architecture using Keras\n",
    "\n",
    "modelFF = Sequential()\n",
    "\n",
    "modelFF.add(Dense(64, input_dim=X_train.shape[1], activation='relu'))\n",
    "\n",
    "modelFF.add(Dense(64, activation='relu'))\n",
    "\n",
    "modelFF.add(Dense(6, activation='softmax'))"
   ]
  },
  {
   "cell_type": "code",
   "execution_count": 20,
   "metadata": {},
   "outputs": [
    {
     "name": "stderr",
     "output_type": "stream",
     "text": [
      "Using TensorFlow backend.\n"
     ]
    }
   ],
   "source": [
    "# Compile the model\n",
    "\n",
    "from keras.optimizers import RMSprop, Adam\n",
    "\n",
    "modelFF.compile(optimizer = keras.optimizers.Adam(lr=0.001), loss='sparse_categorical_crossentropy', metrics=['accuracy'])\n"
   ]
  },
  {
   "cell_type": "code",
   "execution_count": 21,
   "metadata": {},
   "outputs": [
    {
     "name": "stdout",
     "output_type": "stream",
     "text": [
      "Model: \"sequential\"\n",
      "_________________________________________________________________\n",
      "Layer (type)                 Output Shape              Param #   \n",
      "=================================================================\n",
      "dense (Dense)                (None, 64)                448       \n",
      "_________________________________________________________________\n",
      "dense_1 (Dense)              (None, 64)                4160      \n",
      "_________________________________________________________________\n",
      "dense_2 (Dense)              (None, 6)                 390       \n",
      "=================================================================\n",
      "Total params: 4,998\n",
      "Trainable params: 4,998\n",
      "Non-trainable params: 0\n",
      "_________________________________________________________________\n",
      "None\n"
     ]
    }
   ],
   "source": [
    "print(modelFF.summary())"
   ]
  },
  {
   "cell_type": "code",
   "execution_count": 59,
   "metadata": {},
   "outputs": [
    {
     "name": "stdout",
     "output_type": "stream",
     "text": [
      "Train on 4998 samples, validate on 883 samples\n",
      "Epoch 1/500\n",
      "4998/4998 [==============================] - 12s 2ms/sample - loss: 1.4300 - accuracy: 0.3583 - val_loss: 1.3624 - val_accuracy: 0.3839\n",
      "Epoch 2/500\n",
      "4998/4998 [==============================] - 12s 2ms/sample - loss: 1.2762 - accuracy: 0.4154 - val_loss: 1.2515 - val_accuracy: 0.4179\n",
      "Epoch 3/500\n",
      "4998/4998 [==============================] - 12s 2ms/sample - loss: 1.2202 - accuracy: 0.4474 - val_loss: 1.2122 - val_accuracy: 0.4519\n",
      "Epoch 4/500\n",
      "4998/4998 [==============================] - 12s 2ms/sample - loss: 1.1816 - accuracy: 0.4578 - val_loss: 1.2079 - val_accuracy: 0.4224\n",
      "Epoch 5/500\n",
      "4998/4998 [==============================] - 12s 2ms/sample - loss: 1.1566 - accuracy: 0.4712 - val_loss: 1.1669 - val_accuracy: 0.4564\n",
      "Epoch 6/500\n",
      "4998/4998 [==============================] - 11s 2ms/sample - loss: 1.1309 - accuracy: 0.4768 - val_loss: 1.1814 - val_accuracy: 0.4655\n",
      "Epoch 7/500\n",
      "4998/4998 [==============================] - 13s 3ms/sample - loss: 1.1144 - accuracy: 0.5004 - val_loss: 1.1414 - val_accuracy: 0.5119\n",
      "Epoch 8/500\n",
      "4998/4998 [==============================] - 12s 2ms/sample - loss: 1.0981 - accuracy: 0.5002 - val_loss: 1.1300 - val_accuracy: 0.4836\n",
      "Epoch 9/500\n",
      "4998/4998 [==============================] - 12s 2ms/sample - loss: 1.0835 - accuracy: 0.5024 - val_loss: 1.1693 - val_accuracy: 0.5074\n",
      "Epoch 10/500\n",
      "4998/4998 [==============================] - 12s 2ms/sample - loss: 1.0651 - accuracy: 0.5156 - val_loss: 1.1186 - val_accuracy: 0.5221\n",
      "Epoch 11/500\n",
      "4998/4998 [==============================] - 12s 2ms/sample - loss: 1.0516 - accuracy: 0.5276 - val_loss: 1.1081 - val_accuracy: 0.5164\n",
      "Epoch 12/500\n",
      "4998/4998 [==============================] - 12s 2ms/sample - loss: 1.0331 - accuracy: 0.5368 - val_loss: 1.0919 - val_accuracy: 0.5006\n",
      "Epoch 13/500\n",
      "4998/4998 [==============================] - 12s 2ms/sample - loss: 1.0257 - accuracy: 0.5458 - val_loss: 1.0736 - val_accuracy: 0.5311\n",
      "Epoch 14/500\n",
      "4998/4998 [==============================] - 12s 2ms/sample - loss: 1.0088 - accuracy: 0.5532 - val_loss: 1.0515 - val_accuracy: 0.5640\n",
      "Epoch 15/500\n",
      "4998/4998 [==============================] - 12s 2ms/sample - loss: 0.9971 - accuracy: 0.5598 - val_loss: 1.0424 - val_accuracy: 0.5470\n",
      "Epoch 16/500\n",
      "4998/4998 [==============================] - 12s 2ms/sample - loss: 0.9792 - accuracy: 0.5800 - val_loss: 1.0684 - val_accuracy: 0.5232\n",
      "Epoch 17/500\n",
      "4998/4998 [==============================] - 12s 2ms/sample - loss: 0.9707 - accuracy: 0.5726 - val_loss: 1.1195 - val_accuracy: 0.4858\n",
      "Epoch 18/500\n",
      "4998/4998 [==============================] - 11s 2ms/sample - loss: 0.9614 - accuracy: 0.5812 - val_loss: 1.0419 - val_accuracy: 0.5142\n",
      "Epoch 19/500\n",
      "4998/4998 [==============================] - 10s 2ms/sample - loss: 0.9500 - accuracy: 0.5858 - val_loss: 1.0296 - val_accuracy: 0.5629\n",
      "Epoch 20/500\n",
      "4998/4998 [==============================] - 11s 2ms/sample - loss: 0.9471 - accuracy: 0.5768 - val_loss: 1.0129 - val_accuracy: 0.5742\n",
      "Epoch 21/500\n",
      "4998/4998 [==============================] - 11s 2ms/sample - loss: 0.9379 - accuracy: 0.5884 - val_loss: 1.0087 - val_accuracy: 0.5447\n",
      "Epoch 22/500\n",
      "4998/4998 [==============================] - 11s 2ms/sample - loss: 0.9259 - accuracy: 0.5974 - val_loss: 0.9982 - val_accuracy: 0.5866\n",
      "Epoch 23/500\n",
      "4998/4998 [==============================] - 11s 2ms/sample - loss: 0.9200 - accuracy: 0.5946 - val_loss: 0.9882 - val_accuracy: 0.5810\n",
      "Epoch 24/500\n",
      "4998/4998 [==============================] - 11s 2ms/sample - loss: 0.9157 - accuracy: 0.5978 - val_loss: 1.0657 - val_accuracy: 0.5334\n",
      "Epoch 25/500\n",
      "4998/4998 [==============================] - 11s 2ms/sample - loss: 0.9053 - accuracy: 0.6040 - val_loss: 1.0574 - val_accuracy: 0.5357\n",
      "Epoch 26/500\n",
      "4998/4998 [==============================] - 11s 2ms/sample - loss: 0.9031 - accuracy: 0.6074 - val_loss: 1.0565 - val_accuracy: 0.5515\n",
      "Epoch 27/500\n",
      "4998/4998 [==============================] - 11s 2ms/sample - loss: 0.8922 - accuracy: 0.6108 - val_loss: 1.1206 - val_accuracy: 0.5130\n",
      "Epoch 28/500\n",
      "4998/4998 [==============================] - 11s 2ms/sample - loss: 0.8921 - accuracy: 0.6120 - val_loss: 1.0805 - val_accuracy: 0.5289\n",
      "Epoch 29/500\n",
      "4998/4998 [==============================] - 11s 2ms/sample - loss: 0.8877 - accuracy: 0.6134 - val_loss: 1.0045 - val_accuracy: 0.5776\n",
      "Epoch 30/500\n",
      "4998/4998 [==============================] - 11s 2ms/sample - loss: 0.8723 - accuracy: 0.6184 - val_loss: 1.0070 - val_accuracy: 0.5629\n",
      "Epoch 31/500\n",
      "4998/4998 [==============================] - 11s 2ms/sample - loss: 0.8719 - accuracy: 0.6172 - val_loss: 1.0491 - val_accuracy: 0.5379\n",
      "Epoch 32/500\n",
      "4998/4998 [==============================] - 11s 2ms/sample - loss: 0.8667 - accuracy: 0.6248 - val_loss: 1.0263 - val_accuracy: 0.5572\n",
      "Epoch 33/500\n",
      "4998/4998 [==============================] - 11s 2ms/sample - loss: 0.8631 - accuracy: 0.6210 - val_loss: 1.0307 - val_accuracy: 0.5572\n",
      "Epoch 34/500\n",
      "4998/4998 [==============================] - 11s 2ms/sample - loss: 0.8596 - accuracy: 0.6190 - val_loss: 1.0008 - val_accuracy: 0.5776\n",
      "Epoch 35/500\n",
      "4998/4998 [==============================] - 11s 2ms/sample - loss: 0.8563 - accuracy: 0.6259 - val_loss: 1.0850 - val_accuracy: 0.5289\n",
      "Epoch 36/500\n",
      "4998/4998 [==============================] - 11s 2ms/sample - loss: 0.8508 - accuracy: 0.6236 - val_loss: 1.0121 - val_accuracy: 0.5753\n",
      "Epoch 37/500\n",
      "4998/4998 [==============================] - 11s 2ms/sample - loss: 0.8459 - accuracy: 0.6285 - val_loss: 1.0284 - val_accuracy: 0.5425\n",
      "Epoch 38/500\n",
      "4998/4998 [==============================] - 11s 2ms/sample - loss: 0.8395 - accuracy: 0.6319 - val_loss: 1.0129 - val_accuracy: 0.5708\n",
      "Epoch 39/500\n",
      "4998/4998 [==============================] - 11s 2ms/sample - loss: 0.8406 - accuracy: 0.6333 - val_loss: 1.0089 - val_accuracy: 0.5651\n",
      "Epoch 40/500\n",
      "4998/4998 [==============================] - 11s 2ms/sample - loss: 0.8393 - accuracy: 0.6325 - val_loss: 1.2888 - val_accuracy: 0.4960\n",
      "Epoch 41/500\n",
      "4998/4998 [==============================] - 11s 2ms/sample - loss: 0.8342 - accuracy: 0.6349 - val_loss: 1.0178 - val_accuracy: 0.5753\n",
      "Epoch 42/500\n",
      "4998/4998 [==============================] - 11s 2ms/sample - loss: 0.8324 - accuracy: 0.6315 - val_loss: 1.0743 - val_accuracy: 0.5391\n",
      "Epoch 43/500\n",
      "4998/4998 [==============================] - 11s 2ms/sample - loss: 0.8242 - accuracy: 0.6431 - val_loss: 1.0574 - val_accuracy: 0.5311\n",
      "Epoch 44/500\n",
      "4998/4998 [==============================] - 12s 2ms/sample - loss: 0.8173 - accuracy: 0.6415 - val_loss: 1.0134 - val_accuracy: 0.5742\n",
      "Epoch 45/500\n",
      "4998/4998 [==============================] - 11s 2ms/sample - loss: 0.8207 - accuracy: 0.6469 - val_loss: 0.9858 - val_accuracy: 0.5776\n",
      "Epoch 46/500\n",
      "4998/4998 [==============================] - 11s 2ms/sample - loss: 0.8206 - accuracy: 0.6461 - val_loss: 0.9925 - val_accuracy: 0.5753\n",
      "Epoch 47/500\n",
      "4998/4998 [==============================] - 11s 2ms/sample - loss: 0.8074 - accuracy: 0.6475 - val_loss: 1.1602 - val_accuracy: 0.5232\n",
      "Epoch 48/500\n",
      "4998/4998 [==============================] - 11s 2ms/sample - loss: 0.8094 - accuracy: 0.6505 - val_loss: 1.1098 - val_accuracy: 0.5108\n",
      "Epoch 49/500\n",
      "4998/4998 [==============================] - 11s 2ms/sample - loss: 0.8103 - accuracy: 0.6499 - val_loss: 0.9841 - val_accuracy: 0.5980\n",
      "Epoch 50/500\n",
      "4998/4998 [==============================] - 11s 2ms/sample - loss: 0.8017 - accuracy: 0.6557 - val_loss: 0.9949 - val_accuracy: 0.6070\n",
      "Epoch 51/500\n",
      "4998/4998 [==============================] - 11s 2ms/sample - loss: 0.8005 - accuracy: 0.6541 - val_loss: 1.0474 - val_accuracy: 0.5753\n",
      "Epoch 52/500\n",
      "4998/4998 [==============================] - 10s 2ms/sample - loss: 0.8009 - accuracy: 0.6499 - val_loss: 1.0374 - val_accuracy: 0.5629\n",
      "Epoch 53/500\n",
      "4998/4998 [==============================] - 11s 2ms/sample - loss: 0.7974 - accuracy: 0.6431 - val_loss: 0.9985 - val_accuracy: 0.5889\n",
      "Epoch 54/500\n",
      "4998/4998 [==============================] - 11s 2ms/sample - loss: 0.7879 - accuracy: 0.6569 - val_loss: 1.0720 - val_accuracy: 0.5515\n",
      "Epoch 55/500\n",
      "4998/4998 [==============================] - 11s 2ms/sample - loss: 0.7954 - accuracy: 0.6551 - val_loss: 1.0377 - val_accuracy: 0.5980\n"
     ]
    },
    {
     "name": "stdout",
     "output_type": "stream",
     "text": [
      "Epoch 56/500\n",
      "4998/4998 [==============================] - 11s 2ms/sample - loss: 0.7920 - accuracy: 0.6531 - val_loss: 1.0036 - val_accuracy: 0.5923\n",
      "Epoch 57/500\n",
      "4998/4998 [==============================] - 11s 2ms/sample - loss: 0.7827 - accuracy: 0.6573 - val_loss: 1.0363 - val_accuracy: 0.5878\n",
      "Epoch 58/500\n",
      "4998/4998 [==============================] - 11s 2ms/sample - loss: 0.7854 - accuracy: 0.6637 - val_loss: 1.0557 - val_accuracy: 0.5651\n",
      "Epoch 59/500\n",
      "4998/4998 [==============================] - 11s 2ms/sample - loss: 0.7787 - accuracy: 0.6589 - val_loss: 1.0946 - val_accuracy: 0.5776\n",
      "Epoch 60/500\n",
      "4998/4998 [==============================] - 11s 2ms/sample - loss: 0.7799 - accuracy: 0.6673 - val_loss: 1.0941 - val_accuracy: 0.5459\n",
      "Epoch 61/500\n",
      "4998/4998 [==============================] - 11s 2ms/sample - loss: 0.7790 - accuracy: 0.6655 - val_loss: 1.0731 - val_accuracy: 0.5832\n",
      "Epoch 62/500\n",
      "4998/4998 [==============================] - 11s 2ms/sample - loss: 0.7762 - accuracy: 0.6671 - val_loss: 1.0541 - val_accuracy: 0.5730\n",
      "Epoch 63/500\n",
      "4998/4998 [==============================] - 12s 2ms/sample - loss: 0.7741 - accuracy: 0.6613 - val_loss: 1.0528 - val_accuracy: 0.5787\n",
      "Epoch 64/500\n",
      "4998/4998 [==============================] - 12s 2ms/sample - loss: 0.7663 - accuracy: 0.6701 - val_loss: 1.1278 - val_accuracy: 0.5391\n",
      "Epoch 65/500\n",
      "4998/4998 [==============================] - 12s 2ms/sample - loss: 0.7646 - accuracy: 0.6685 - val_loss: 1.0492 - val_accuracy: 0.5810\n",
      "Epoch 66/500\n",
      "4998/4998 [==============================] - 11s 2ms/sample - loss: 0.7629 - accuracy: 0.6737 - val_loss: 1.1106 - val_accuracy: 0.5629\n",
      "Epoch 67/500\n",
      "4998/4998 [==============================] - 11s 2ms/sample - loss: 0.7604 - accuracy: 0.6715 - val_loss: 1.1452 - val_accuracy: 0.5300\n",
      "Epoch 68/500\n",
      "4998/4998 [==============================] - 11s 2ms/sample - loss: 0.7609 - accuracy: 0.6669 - val_loss: 1.0686 - val_accuracy: 0.6014\n",
      "Epoch 69/500\n",
      "4998/4998 [==============================] - 12s 2ms/sample - loss: 0.7551 - accuracy: 0.6749 - val_loss: 1.1085 - val_accuracy: 0.5708\n",
      "Epoch 70/500\n",
      "4998/4998 [==============================] - 11s 2ms/sample - loss: 0.7584 - accuracy: 0.6689 - val_loss: 1.0861 - val_accuracy: 0.5674\n",
      "Epoch 71/500\n",
      "4998/4998 [==============================] - 11s 2ms/sample - loss: 0.7493 - accuracy: 0.6759 - val_loss: 1.0694 - val_accuracy: 0.5583\n",
      "Epoch 72/500\n",
      "4998/4998 [==============================] - 11s 2ms/sample - loss: 0.7465 - accuracy: 0.6761 - val_loss: 1.0506 - val_accuracy: 0.5912\n",
      "Epoch 73/500\n",
      "4998/4998 [==============================] - 12s 2ms/sample - loss: 0.7485 - accuracy: 0.6787 - val_loss: 1.0655 - val_accuracy: 0.5719\n",
      "Epoch 74/500\n",
      "4998/4998 [==============================] - 11s 2ms/sample - loss: 0.7458 - accuracy: 0.6757 - val_loss: 1.1286 - val_accuracy: 0.5470\n",
      "Epoch 75/500\n",
      "4998/4998 [==============================] - 11s 2ms/sample - loss: 0.7438 - accuracy: 0.6757 - val_loss: 1.1119 - val_accuracy: 0.5719\n",
      "Epoch 76/500\n",
      "4998/4998 [==============================] - 11s 2ms/sample - loss: 0.7312 - accuracy: 0.6821 - val_loss: 1.1018 - val_accuracy: 0.5810\n",
      "Epoch 77/500\n",
      "4998/4998 [==============================] - 11s 2ms/sample - loss: 0.7443 - accuracy: 0.6765 - val_loss: 1.1442 - val_accuracy: 0.5606\n",
      "Epoch 78/500\n",
      "4998/4998 [==============================] - 11s 2ms/sample - loss: 0.7349 - accuracy: 0.6827 - val_loss: 1.1203 - val_accuracy: 0.5674\n",
      "Epoch 79/500\n",
      "4998/4998 [==============================] - 11s 2ms/sample - loss: 0.7379 - accuracy: 0.6785 - val_loss: 1.1037 - val_accuracy: 0.5685\n",
      "Epoch 80/500\n",
      "4998/4998 [==============================] - 11s 2ms/sample - loss: 0.7278 - accuracy: 0.6925 - val_loss: 1.0493 - val_accuracy: 0.5719\n",
      "Epoch 81/500\n",
      "4998/4998 [==============================] - 11s 2ms/sample - loss: 0.7342 - accuracy: 0.6857 - val_loss: 1.1097 - val_accuracy: 0.5753\n",
      "Epoch 82/500\n",
      "4998/4998 [==============================] - 11s 2ms/sample - loss: 0.7307 - accuracy: 0.6855 - val_loss: 1.0598 - val_accuracy: 0.5810\n",
      "Epoch 83/500\n",
      "4998/4998 [==============================] - 11s 2ms/sample - loss: 0.7239 - accuracy: 0.6895 - val_loss: 1.2166 - val_accuracy: 0.5289\n",
      "Epoch 84/500\n",
      "4998/4998 [==============================] - 12s 2ms/sample - loss: 0.7288 - accuracy: 0.6835 - val_loss: 1.1278 - val_accuracy: 0.5753\n",
      "Epoch 85/500\n",
      "4998/4998 [==============================] - 11s 2ms/sample - loss: 0.7216 - accuracy: 0.6863 - val_loss: 1.1536 - val_accuracy: 0.5606\n",
      "Epoch 86/500\n",
      "4998/4998 [==============================] - 11s 2ms/sample - loss: 0.7215 - accuracy: 0.6883 - val_loss: 1.0888 - val_accuracy: 0.5968\n",
      "Epoch 87/500\n",
      "4998/4998 [==============================] - 11s 2ms/sample - loss: 0.7192 - accuracy: 0.6897 - val_loss: 1.1704 - val_accuracy: 0.5459\n",
      "Epoch 88/500\n",
      "4998/4998 [==============================] - 11s 2ms/sample - loss: 0.7180 - accuracy: 0.6921 - val_loss: 1.0512 - val_accuracy: 0.6082\n",
      "Epoch 89/500\n",
      "4998/4998 [==============================] - 11s 2ms/sample - loss: 0.7150 - accuracy: 0.6833 - val_loss: 1.1281 - val_accuracy: 0.5810\n",
      "Epoch 90/500\n",
      "4998/4998 [==============================] - 11s 2ms/sample - loss: 0.7062 - accuracy: 0.6997 - val_loss: 1.1023 - val_accuracy: 0.5946\n",
      "Epoch 91/500\n",
      "4998/4998 [==============================] - 11s 2ms/sample - loss: 0.7113 - accuracy: 0.6947 - val_loss: 1.1055 - val_accuracy: 0.5968\n",
      "Epoch 92/500\n",
      "4998/4998 [==============================] - 11s 2ms/sample - loss: 0.7041 - accuracy: 0.6987 - val_loss: 1.2011 - val_accuracy: 0.5617\n",
      "Epoch 93/500\n",
      "4998/4998 [==============================] - 11s 2ms/sample - loss: 0.7135 - accuracy: 0.6917 - val_loss: 1.1231 - val_accuracy: 0.5832\n",
      "Epoch 94/500\n",
      "4998/4998 [==============================] - 11s 2ms/sample - loss: 0.7044 - accuracy: 0.6935 - val_loss: 1.2196 - val_accuracy: 0.5549\n",
      "Epoch 95/500\n",
      "4998/4998 [==============================] - 11s 2ms/sample - loss: 0.7048 - accuracy: 0.6911 - val_loss: 1.1154 - val_accuracy: 0.5787\n",
      "Epoch 96/500\n",
      "4998/4998 [==============================] - 12s 2ms/sample - loss: 0.7047 - accuracy: 0.6985 - val_loss: 1.1457 - val_accuracy: 0.5730\n",
      "Epoch 97/500\n",
      "4998/4998 [==============================] - 11s 2ms/sample - loss: 0.7035 - accuracy: 0.6999 - val_loss: 1.1078 - val_accuracy: 0.6127\n",
      "Epoch 98/500\n",
      "4998/4998 [==============================] - 11s 2ms/sample - loss: 0.6963 - accuracy: 0.7031 - val_loss: 1.1350 - val_accuracy: 0.5934\n",
      "Epoch 99/500\n",
      "4998/4998 [==============================] - 11s 2ms/sample - loss: 0.6981 - accuracy: 0.6959 - val_loss: 1.1893 - val_accuracy: 0.5696\n",
      "Epoch 100/500\n",
      "4998/4998 [==============================] - 11s 2ms/sample - loss: 0.6988 - accuracy: 0.7011 - val_loss: 1.1620 - val_accuracy: 0.5866\n",
      "Epoch 101/500\n",
      "4998/4998 [==============================] - 11s 2ms/sample - loss: 0.6954 - accuracy: 0.6993 - val_loss: 1.1285 - val_accuracy: 0.6070\n",
      "Epoch 102/500\n",
      "4998/4998 [==============================] - 11s 2ms/sample - loss: 0.6896 - accuracy: 0.7079 - val_loss: 1.1416 - val_accuracy: 0.5957\n",
      "Epoch 103/500\n",
      "4998/4998 [==============================] - 11s 2ms/sample - loss: 0.6834 - accuracy: 0.7035 - val_loss: 1.1370 - val_accuracy: 0.5844\n",
      "Epoch 104/500\n",
      "4998/4998 [==============================] - 11s 2ms/sample - loss: 0.6945 - accuracy: 0.7035 - val_loss: 1.1896 - val_accuracy: 0.5719\n",
      "Epoch 105/500\n",
      "4998/4998 [==============================] - 10s 2ms/sample - loss: 0.6858 - accuracy: 0.6995 - val_loss: 1.1741 - val_accuracy: 0.5798\n",
      "Epoch 106/500\n",
      "4998/4998 [==============================] - 11s 2ms/sample - loss: 0.6848 - accuracy: 0.7073 - val_loss: 1.1695 - val_accuracy: 0.5821\n",
      "Epoch 107/500\n",
      "4998/4998 [==============================] - 11s 2ms/sample - loss: 0.6830 - accuracy: 0.7033 - val_loss: 1.1829 - val_accuracy: 0.5855\n",
      "Epoch 108/500\n",
      "4998/4998 [==============================] - 11s 2ms/sample - loss: 0.6867 - accuracy: 0.7067 - val_loss: 1.1472 - val_accuracy: 0.5832\n",
      "Epoch 109/500\n",
      "4998/4998 [==============================] - 11s 2ms/sample - loss: 0.6772 - accuracy: 0.7037 - val_loss: 1.2006 - val_accuracy: 0.5810\n",
      "Epoch 110/500\n",
      "4998/4998 [==============================] - 11s 2ms/sample - loss: 0.6759 - accuracy: 0.7129 - val_loss: 1.2072 - val_accuracy: 0.5391\n"
     ]
    },
    {
     "name": "stdout",
     "output_type": "stream",
     "text": [
      "Epoch 111/500\n",
      "4998/4998 [==============================] - 11s 2ms/sample - loss: 0.6778 - accuracy: 0.7073 - val_loss: 1.1941 - val_accuracy: 0.5708\n",
      "Epoch 112/500\n",
      "4998/4998 [==============================] - 11s 2ms/sample - loss: 0.6698 - accuracy: 0.7099 - val_loss: 1.2161 - val_accuracy: 0.5663\n",
      "Epoch 113/500\n",
      "4998/4998 [==============================] - 11s 2ms/sample - loss: 0.6754 - accuracy: 0.7075 - val_loss: 1.1539 - val_accuracy: 0.5912\n",
      "Epoch 114/500\n",
      "4998/4998 [==============================] - 11s 2ms/sample - loss: 0.6741 - accuracy: 0.7083 - val_loss: 1.1763 - val_accuracy: 0.6059\n",
      "Epoch 115/500\n",
      "4998/4998 [==============================] - 11s 2ms/sample - loss: 0.6719 - accuracy: 0.7107 - val_loss: 1.1804 - val_accuracy: 0.5629\n",
      "Epoch 116/500\n",
      "4998/4998 [==============================] - 10s 2ms/sample - loss: 0.6666 - accuracy: 0.7199 - val_loss: 1.1313 - val_accuracy: 0.5980\n",
      "Epoch 117/500\n",
      "4998/4998 [==============================] - 11s 2ms/sample - loss: 0.6684 - accuracy: 0.7109 - val_loss: 1.1768 - val_accuracy: 0.5946\n",
      "Epoch 118/500\n",
      "4998/4998 [==============================] - 11s 2ms/sample - loss: 0.6667 - accuracy: 0.7135 - val_loss: 1.1996 - val_accuracy: 0.5980\n",
      "Epoch 119/500\n",
      "4998/4998 [==============================] - 11s 2ms/sample - loss: 0.6637 - accuracy: 0.7183 - val_loss: 1.2106 - val_accuracy: 0.5640\n",
      "Epoch 120/500\n",
      "4998/4998 [==============================] - 11s 2ms/sample - loss: 0.6630 - accuracy: 0.7167 - val_loss: 1.2093 - val_accuracy: 0.6025\n",
      "Epoch 121/500\n",
      "4998/4998 [==============================] - 11s 2ms/sample - loss: 0.6678 - accuracy: 0.7125 - val_loss: 1.2834 - val_accuracy: 0.5583\n",
      "Epoch 122/500\n",
      "4998/4998 [==============================] - 11s 2ms/sample - loss: 0.6566 - accuracy: 0.7203 - val_loss: 1.2399 - val_accuracy: 0.5900\n",
      "Epoch 123/500\n",
      "4998/4998 [==============================] - 11s 2ms/sample - loss: 0.6608 - accuracy: 0.7121 - val_loss: 1.2302 - val_accuracy: 0.5708\n",
      "Epoch 124/500\n",
      "4998/4998 [==============================] - 11s 2ms/sample - loss: 0.6617 - accuracy: 0.7161 - val_loss: 1.2244 - val_accuracy: 0.6048\n",
      "Epoch 125/500\n",
      "4998/4998 [==============================] - 11s 2ms/sample - loss: 0.6570 - accuracy: 0.7121 - val_loss: 1.1957 - val_accuracy: 0.5934\n",
      "Epoch 126/500\n",
      "4998/4998 [==============================] - 11s 2ms/sample - loss: 0.6589 - accuracy: 0.7133 - val_loss: 1.1710 - val_accuracy: 0.6195\n",
      "Epoch 127/500\n",
      "4998/4998 [==============================] - 11s 2ms/sample - loss: 0.6565 - accuracy: 0.7137 - val_loss: 1.1824 - val_accuracy: 0.5980\n",
      "Epoch 128/500\n",
      "4998/4998 [==============================] - 11s 2ms/sample - loss: 0.6515 - accuracy: 0.7139 - val_loss: 1.1858 - val_accuracy: 0.6217\n",
      "Epoch 129/500\n",
      "4998/4998 [==============================] - 11s 2ms/sample - loss: 0.6573 - accuracy: 0.7227 - val_loss: 1.2333 - val_accuracy: 0.5934\n",
      "Epoch 130/500\n",
      "4998/4998 [==============================] - 11s 2ms/sample - loss: 0.6510 - accuracy: 0.7265 - val_loss: 1.2243 - val_accuracy: 0.5991\n",
      "Epoch 131/500\n",
      "4998/4998 [==============================] - 11s 2ms/sample - loss: 0.6467 - accuracy: 0.7221 - val_loss: 1.2450 - val_accuracy: 0.6014\n",
      "Epoch 132/500\n",
      "4998/4998 [==============================] - 11s 2ms/sample - loss: 0.6466 - accuracy: 0.7275 - val_loss: 1.2147 - val_accuracy: 0.5957\n",
      "Epoch 133/500\n",
      "4998/4998 [==============================] - 11s 2ms/sample - loss: 0.6432 - accuracy: 0.7259 - val_loss: 1.2595 - val_accuracy: 0.5764\n",
      "Epoch 134/500\n",
      "4998/4998 [==============================] - 11s 2ms/sample - loss: 0.6480 - accuracy: 0.7189 - val_loss: 1.3178 - val_accuracy: 0.5923\n",
      "Epoch 135/500\n",
      "4998/4998 [==============================] - 11s 2ms/sample - loss: 0.6412 - accuracy: 0.7213 - val_loss: 1.2073 - val_accuracy: 0.6093\n",
      "Epoch 136/500\n",
      "4998/4998 [==============================] - 11s 2ms/sample - loss: 0.6390 - accuracy: 0.7281 - val_loss: 1.2576 - val_accuracy: 0.5798\n",
      "Epoch 137/500\n",
      "4998/4998 [==============================] - 11s 2ms/sample - loss: 0.6402 - accuracy: 0.7211 - val_loss: 1.2877 - val_accuracy: 0.5810\n",
      "Epoch 138/500\n",
      "4998/4998 [==============================] - 10s 2ms/sample - loss: 0.6383 - accuracy: 0.7299 - val_loss: 1.2539 - val_accuracy: 0.6025\n",
      "Epoch 139/500\n",
      "4998/4998 [==============================] - 11s 2ms/sample - loss: 0.6346 - accuracy: 0.7269 - val_loss: 1.3133 - val_accuracy: 0.5776\n",
      "Epoch 140/500\n",
      "4998/4998 [==============================] - 11s 2ms/sample - loss: 0.6407 - accuracy: 0.7237 - val_loss: 1.2650 - val_accuracy: 0.5696\n",
      "Epoch 141/500\n",
      "4998/4998 [==============================] - 11s 2ms/sample - loss: 0.6359 - accuracy: 0.7283 - val_loss: 1.2969 - val_accuracy: 0.5606\n",
      "Epoch 142/500\n",
      "4998/4998 [==============================] - 11s 2ms/sample - loss: 0.6434 - accuracy: 0.7265 - val_loss: 1.2916 - val_accuracy: 0.5696\n",
      "Epoch 143/500\n",
      "4998/4998 [==============================] - 11s 2ms/sample - loss: 0.6288 - accuracy: 0.7253 - val_loss: 1.2836 - val_accuracy: 0.5889\n",
      "Epoch 144/500\n",
      "4998/4998 [==============================] - 11s 2ms/sample - loss: 0.6303 - accuracy: 0.7311 - val_loss: 1.2883 - val_accuracy: 0.5866\n",
      "Epoch 145/500\n",
      "4998/4998 [==============================] - 11s 2ms/sample - loss: 0.6288 - accuracy: 0.7271 - val_loss: 1.3125 - val_accuracy: 0.5685\n",
      "Epoch 146/500\n",
      "4998/4998 [==============================] - 11s 2ms/sample - loss: 0.6344 - accuracy: 0.7227 - val_loss: 1.2975 - val_accuracy: 0.5696\n",
      "Epoch 147/500\n",
      "4998/4998 [==============================] - 11s 2ms/sample - loss: 0.6363 - accuracy: 0.7241 - val_loss: 1.2820 - val_accuracy: 0.5719\n",
      "Epoch 148/500\n",
      "4998/4998 [==============================] - 11s 2ms/sample - loss: 0.6280 - accuracy: 0.7303 - val_loss: 1.2527 - val_accuracy: 0.5742\n",
      "Epoch 149/500\n",
      "4998/4998 [==============================] - 10s 2ms/sample - loss: 0.6236 - accuracy: 0.7355 - val_loss: 1.3048 - val_accuracy: 0.5957\n",
      "Epoch 150/500\n",
      "4998/4998 [==============================] - 11s 2ms/sample - loss: 0.6263 - accuracy: 0.7323 - val_loss: 1.2960 - val_accuracy: 0.5934\n",
      "Epoch 151/500\n",
      "4998/4998 [==============================] - 11s 2ms/sample - loss: 0.6254 - accuracy: 0.7279 - val_loss: 1.3398 - val_accuracy: 0.5855\n",
      "Epoch 152/500\n",
      "4998/4998 [==============================] - 11s 2ms/sample - loss: 0.6240 - accuracy: 0.7365 - val_loss: 1.3482 - val_accuracy: 0.5685\n",
      "Epoch 153/500\n",
      "4998/4998 [==============================] - 11s 2ms/sample - loss: 0.6221 - accuracy: 0.7267 - val_loss: 1.2435 - val_accuracy: 0.5957\n",
      "Epoch 154/500\n",
      "4998/4998 [==============================] - 11s 2ms/sample - loss: 0.6229 - accuracy: 0.7345 - val_loss: 1.2724 - val_accuracy: 0.5968\n",
      "Epoch 155/500\n",
      "4998/4998 [==============================] - 11s 2ms/sample - loss: 0.6184 - accuracy: 0.7375 - val_loss: 1.3446 - val_accuracy: 0.6048\n",
      "Epoch 156/500\n",
      "4998/4998 [==============================] - 11s 2ms/sample - loss: 0.6218 - accuracy: 0.7405 - val_loss: 1.3728 - val_accuracy: 0.5798\n",
      "Epoch 157/500\n",
      "4998/4998 [==============================] - 11s 2ms/sample - loss: 0.6169 - accuracy: 0.7351 - val_loss: 1.2855 - val_accuracy: 0.5957\n",
      "Epoch 158/500\n",
      "4998/4998 [==============================] - 11s 2ms/sample - loss: 0.6192 - accuracy: 0.7285 - val_loss: 1.3015 - val_accuracy: 0.6059\n",
      "Epoch 159/500\n",
      "4998/4998 [==============================] - 11s 2ms/sample - loss: 0.6146 - accuracy: 0.7315 - val_loss: 1.3585 - val_accuracy: 0.6070\n",
      "Epoch 160/500\n",
      "4998/4998 [==============================] - 10s 2ms/sample - loss: 0.6153 - accuracy: 0.7303 - val_loss: 1.3309 - val_accuracy: 0.5912\n",
      "Epoch 161/500\n",
      "4998/4998 [==============================] - 11s 2ms/sample - loss: 0.6131 - accuracy: 0.7411 - val_loss: 1.3034 - val_accuracy: 0.6127\n",
      "Epoch 162/500\n",
      "4998/4998 [==============================] - 11s 2ms/sample - loss: 0.6042 - accuracy: 0.7461 - val_loss: 1.3133 - val_accuracy: 0.6014\n",
      "Epoch 163/500\n",
      "4998/4998 [==============================] - 11s 2ms/sample - loss: 0.6071 - accuracy: 0.7373 - val_loss: 1.3739 - val_accuracy: 0.5708\n",
      "Epoch 164/500\n",
      "4998/4998 [==============================] - 11s 2ms/sample - loss: 0.6143 - accuracy: 0.7277 - val_loss: 1.4291 - val_accuracy: 0.5946\n",
      "Epoch 165/500\n",
      "4998/4998 [==============================] - 11s 2ms/sample - loss: 0.6020 - accuracy: 0.7445 - val_loss: 1.3696 - val_accuracy: 0.5629\n",
      "Epoch 166/500\n",
      "4998/4998 [==============================] - 11s 2ms/sample - loss: 0.6078 - accuracy: 0.7389 - val_loss: 1.3063 - val_accuracy: 0.6387\n",
      "Epoch 167/500\n",
      "4998/4998 [==============================] - 11s 2ms/sample - loss: 0.6066 - accuracy: 0.7289 - val_loss: 1.4445 - val_accuracy: 0.5674\n",
      "Epoch 168/500\n",
      "4998/4998 [==============================] - 11s 2ms/sample - loss: 0.6037 - accuracy: 0.7377 - val_loss: 1.3552 - val_accuracy: 0.6036\n",
      "Epoch 169/500\n",
      "4998/4998 [==============================] - 11s 2ms/sample - loss: 0.6018 - accuracy: 0.7431 - val_loss: 1.3771 - val_accuracy: 0.5866\n",
      "Epoch 170/500\n",
      "4998/4998 [==============================] - 11s 2ms/sample - loss: 0.6081 - accuracy: 0.7443 - val_loss: 1.3998 - val_accuracy: 0.5866\n",
      "Epoch 171/500\n",
      "4998/4998 [==============================] - 10s 2ms/sample - loss: 0.6033 - accuracy: 0.7443 - val_loss: 1.3592 - val_accuracy: 0.6036\n",
      "Epoch 172/500\n",
      "4998/4998 [==============================] - 10s 2ms/sample - loss: 0.5962 - accuracy: 0.7369 - val_loss: 1.3433 - val_accuracy: 0.6059\n",
      "Epoch 173/500\n",
      "4998/4998 [==============================] - 11s 2ms/sample - loss: 0.6004 - accuracy: 0.7385 - val_loss: 1.3598 - val_accuracy: 0.5923\n",
      "Epoch 174/500\n",
      "4998/4998 [==============================] - 11s 2ms/sample - loss: 0.6000 - accuracy: 0.7415 - val_loss: 1.3022 - val_accuracy: 0.6025\n",
      "Epoch 175/500\n",
      "4998/4998 [==============================] - 11s 2ms/sample - loss: 0.5970 - accuracy: 0.7401 - val_loss: 1.4095 - val_accuracy: 0.6048\n",
      "Epoch 176/500\n",
      "4998/4998 [==============================] - 11s 2ms/sample - loss: 0.5938 - accuracy: 0.7499 - val_loss: 1.3687 - val_accuracy: 0.5844\n",
      "Epoch 177/500\n",
      "4998/4998 [==============================] - 11s 2ms/sample - loss: 0.5878 - accuracy: 0.7521 - val_loss: 1.3932 - val_accuracy: 0.5968\n",
      "Epoch 178/500\n",
      "4998/4998 [==============================] - 11s 2ms/sample - loss: 0.5940 - accuracy: 0.7443 - val_loss: 1.4264 - val_accuracy: 0.5923\n",
      "Epoch 179/500\n",
      "4998/4998 [==============================] - 11s 2ms/sample - loss: 0.5934 - accuracy: 0.7379 - val_loss: 1.4466 - val_accuracy: 0.5685\n",
      "Epoch 180/500\n",
      "4998/4998 [==============================] - 11s 2ms/sample - loss: 0.5971 - accuracy: 0.7437 - val_loss: 1.5096 - val_accuracy: 0.5663\n",
      "Epoch 181/500\n",
      "4998/4998 [==============================] - 11s 2ms/sample - loss: 0.5972 - accuracy: 0.7469 - val_loss: 1.4045 - val_accuracy: 0.5866\n",
      "Epoch 182/500\n",
      "4998/4998 [==============================] - 11s 2ms/sample - loss: 0.5881 - accuracy: 0.7487 - val_loss: 1.4457 - val_accuracy: 0.5968\n",
      "Epoch 183/500\n",
      "4998/4998 [==============================] - 10s 2ms/sample - loss: 0.5802 - accuracy: 0.7465 - val_loss: 1.4895 - val_accuracy: 0.5810\n",
      "Epoch 184/500\n",
      "4998/4998 [==============================] - 11s 2ms/sample - loss: 0.5812 - accuracy: 0.7459 - val_loss: 1.4568 - val_accuracy: 0.6036\n",
      "Epoch 185/500\n",
      "4998/4998 [==============================] - 11s 2ms/sample - loss: 0.5902 - accuracy: 0.7429 - val_loss: 1.3757 - val_accuracy: 0.6161\n",
      "Epoch 186/500\n",
      "4998/4998 [==============================] - 11s 2ms/sample - loss: 0.5872 - accuracy: 0.7471 - val_loss: 1.5101 - val_accuracy: 0.5844\n",
      "Epoch 187/500\n",
      "4998/4998 [==============================] - 11s 2ms/sample - loss: 0.5850 - accuracy: 0.7453 - val_loss: 1.4678 - val_accuracy: 0.5798\n",
      "Epoch 188/500\n",
      "4998/4998 [==============================] - 11s 2ms/sample - loss: 0.5915 - accuracy: 0.7505 - val_loss: 1.4692 - val_accuracy: 0.6002\n",
      "Epoch 189/500\n",
      "4998/4998 [==============================] - 11s 2ms/sample - loss: 0.5833 - accuracy: 0.7507 - val_loss: 1.4574 - val_accuracy: 0.6036\n",
      "Epoch 190/500\n",
      "4998/4998 [==============================] - 11s 2ms/sample - loss: 0.5754 - accuracy: 0.7497 - val_loss: 1.4513 - val_accuracy: 0.5980\n",
      "Epoch 191/500\n",
      "4998/4998 [==============================] - 11s 2ms/sample - loss: 0.5872 - accuracy: 0.7495 - val_loss: 1.5343 - val_accuracy: 0.5776\n",
      "Epoch 192/500\n",
      "4998/4998 [==============================] - 11s 2ms/sample - loss: 0.5747 - accuracy: 0.7445 - val_loss: 1.4869 - val_accuracy: 0.5923\n",
      "Epoch 193/500\n",
      "4998/4998 [==============================] - 11s 2ms/sample - loss: 0.5779 - accuracy: 0.7513 - val_loss: 1.5877 - val_accuracy: 0.5629\n",
      "Epoch 194/500\n",
      "4998/4998 [==============================] - 10s 2ms/sample - loss: 0.5814 - accuracy: 0.7509 - val_loss: 1.5060 - val_accuracy: 0.5923\n",
      "Epoch 195/500\n",
      "4998/4998 [==============================] - 11s 2ms/sample - loss: 0.5746 - accuracy: 0.7551 - val_loss: 1.4738 - val_accuracy: 0.5923\n",
      "Epoch 196/500\n",
      "4998/4998 [==============================] - 11s 2ms/sample - loss: 0.5735 - accuracy: 0.7479 - val_loss: 1.5427 - val_accuracy: 0.5764\n",
      "Epoch 197/500\n",
      "4998/4998 [==============================] - 11s 2ms/sample - loss: 0.5742 - accuracy: 0.7483 - val_loss: 1.5636 - val_accuracy: 0.5810\n",
      "Epoch 198/500\n",
      "4998/4998 [==============================] - 11s 2ms/sample - loss: 0.5700 - accuracy: 0.7569 - val_loss: 1.4883 - val_accuracy: 0.6002\n",
      "Epoch 199/500\n",
      "4998/4998 [==============================] - 11s 2ms/sample - loss: 0.5665 - accuracy: 0.7501 - val_loss: 1.6521 - val_accuracy: 0.5674\n",
      "Epoch 200/500\n",
      "4998/4998 [==============================] - 11s 2ms/sample - loss: 0.5772 - accuracy: 0.7489 - val_loss: 1.5075 - val_accuracy: 0.5946\n",
      "Epoch 201/500\n",
      "4998/4998 [==============================] - 11s 2ms/sample - loss: 0.5791 - accuracy: 0.7487 - val_loss: 1.5454 - val_accuracy: 0.6059\n",
      "Epoch 202/500\n",
      "4998/4998 [==============================] - 11s 2ms/sample - loss: 0.5615 - accuracy: 0.7541 - val_loss: 1.5701 - val_accuracy: 0.5934\n",
      "Epoch 203/500\n",
      "4998/4998 [==============================] - 11s 2ms/sample - loss: 0.5705 - accuracy: 0.7515 - val_loss: 1.5964 - val_accuracy: 0.5980\n",
      "Epoch 204/500\n",
      "4998/4998 [==============================] - 11s 2ms/sample - loss: 0.5707 - accuracy: 0.7567 - val_loss: 1.5880 - val_accuracy: 0.6206\n",
      "Epoch 205/500\n",
      "4998/4998 [==============================] - 10s 2ms/sample - loss: 0.5601 - accuracy: 0.7609 - val_loss: 1.6587 - val_accuracy: 0.5844\n",
      "Epoch 206/500\n",
      "4998/4998 [==============================] - 11s 2ms/sample - loss: 0.5649 - accuracy: 0.7581 - val_loss: 1.5737 - val_accuracy: 0.5991\n",
      "Epoch 207/500\n",
      "4998/4998 [==============================] - 11s 2ms/sample - loss: 0.5662 - accuracy: 0.7547 - val_loss: 1.5704 - val_accuracy: 0.5968\n",
      "Epoch 208/500\n",
      "4998/4998 [==============================] - 11s 2ms/sample - loss: 0.5637 - accuracy: 0.7573 - val_loss: 1.5954 - val_accuracy: 0.5889\n",
      "Epoch 209/500\n",
      "4998/4998 [==============================] - 11s 2ms/sample - loss: 0.5630 - accuracy: 0.7645 - val_loss: 1.5976 - val_accuracy: 0.5912\n",
      "Epoch 210/500\n",
      "4998/4998 [==============================] - 11s 2ms/sample - loss: 0.5678 - accuracy: 0.7549 - val_loss: 1.6371 - val_accuracy: 0.5923\n",
      "Epoch 211/500\n",
      "4998/4998 [==============================] - 11s 2ms/sample - loss: 0.5573 - accuracy: 0.7649 - val_loss: 1.6410 - val_accuracy: 0.5583\n",
      "Epoch 212/500\n",
      "4998/4998 [==============================] - 11s 2ms/sample - loss: 0.5642 - accuracy: 0.7533 - val_loss: 1.6058 - val_accuracy: 0.6082\n",
      "Epoch 213/500\n",
      "4998/4998 [==============================] - 11s 2ms/sample - loss: 0.5548 - accuracy: 0.7579 - val_loss: 1.6098 - val_accuracy: 0.5900\n",
      "Epoch 214/500\n",
      "4998/4998 [==============================] - 11s 2ms/sample - loss: 0.5614 - accuracy: 0.7567 - val_loss: 1.6428 - val_accuracy: 0.5900\n",
      "Epoch 215/500\n",
      "4998/4998 [==============================] - 11s 2ms/sample - loss: 0.5631 - accuracy: 0.7513 - val_loss: 1.6169 - val_accuracy: 0.5934\n",
      "Epoch 216/500\n",
      "4998/4998 [==============================] - 10s 2ms/sample - loss: 0.5596 - accuracy: 0.7575 - val_loss: 1.6413 - val_accuracy: 0.6093\n",
      "Epoch 217/500\n",
      "4998/4998 [==============================] - 11s 2ms/sample - loss: 0.5602 - accuracy: 0.7517 - val_loss: 1.6645 - val_accuracy: 0.5878\n",
      "Epoch 218/500\n",
      "4998/4998 [==============================] - 11s 2ms/sample - loss: 0.5558 - accuracy: 0.7543 - val_loss: 1.6462 - val_accuracy: 0.5946\n",
      "Epoch 219/500\n",
      "4998/4998 [==============================] - 11s 2ms/sample - loss: 0.5525 - accuracy: 0.7535 - val_loss: 1.6422 - val_accuracy: 0.6025\n"
     ]
    },
    {
     "name": "stdout",
     "output_type": "stream",
     "text": [
      "Epoch 220/500\n",
      "4998/4998 [==============================] - 11s 2ms/sample - loss: 0.5572 - accuracy: 0.7599 - val_loss: 1.6458 - val_accuracy: 0.6014\n",
      "Epoch 221/500\n",
      "4998/4998 [==============================] - 11s 2ms/sample - loss: 0.5505 - accuracy: 0.7675 - val_loss: 1.6551 - val_accuracy: 0.5787\n",
      "Epoch 222/500\n",
      "4998/4998 [==============================] - 11s 2ms/sample - loss: 0.5597 - accuracy: 0.7535 - val_loss: 1.6870 - val_accuracy: 0.5855\n",
      "Epoch 223/500\n",
      "4998/4998 [==============================] - 11s 2ms/sample - loss: 0.5548 - accuracy: 0.7607 - val_loss: 1.6224 - val_accuracy: 0.5866\n",
      "Epoch 224/500\n",
      "4998/4998 [==============================] - 11s 2ms/sample - loss: 0.5511 - accuracy: 0.7657 - val_loss: 1.6906 - val_accuracy: 0.6036\n",
      "Epoch 225/500\n",
      "4998/4998 [==============================] - 11s 2ms/sample - loss: 0.5449 - accuracy: 0.7665 - val_loss: 1.6392 - val_accuracy: 0.5980\n",
      "Epoch 226/500\n",
      "4998/4998 [==============================] - 11s 2ms/sample - loss: 0.5547 - accuracy: 0.7609 - val_loss: 1.6991 - val_accuracy: 0.5810\n",
      "Epoch 227/500\n",
      "4998/4998 [==============================] - 10s 2ms/sample - loss: 0.5502 - accuracy: 0.7601 - val_loss: 1.7458 - val_accuracy: 0.5787\n",
      "Epoch 228/500\n",
      "4998/4998 [==============================] - 11s 2ms/sample - loss: 0.5471 - accuracy: 0.7655 - val_loss: 1.6989 - val_accuracy: 0.5923\n",
      "Epoch 229/500\n",
      "4998/4998 [==============================] - 11s 2ms/sample - loss: 0.5464 - accuracy: 0.7601 - val_loss: 1.7207 - val_accuracy: 0.6036\n",
      "Epoch 230/500\n",
      "4998/4998 [==============================] - 11s 2ms/sample - loss: 0.5490 - accuracy: 0.7623 - val_loss: 1.7709 - val_accuracy: 0.5776\n",
      "Epoch 231/500\n",
      "4998/4998 [==============================] - 11s 2ms/sample - loss: 0.5397 - accuracy: 0.7649 - val_loss: 1.7105 - val_accuracy: 0.5934\n",
      "Epoch 232/500\n",
      "4998/4998 [==============================] - 11s 2ms/sample - loss: 0.5508 - accuracy: 0.7581 - val_loss: 1.7174 - val_accuracy: 0.5968\n",
      "Epoch 233/500\n",
      "4998/4998 [==============================] - 12s 2ms/sample - loss: 0.5499 - accuracy: 0.7637 - val_loss: 1.6987 - val_accuracy: 0.6002\n",
      "Epoch 234/500\n",
      "4998/4998 [==============================] - 11s 2ms/sample - loss: 0.5555 - accuracy: 0.7623 - val_loss: 1.7800 - val_accuracy: 0.6025\n",
      "Epoch 235/500\n",
      "4998/4998 [==============================] - 12s 2ms/sample - loss: 0.5396 - accuracy: 0.7663 - val_loss: 1.6661 - val_accuracy: 0.5934\n",
      "Epoch 236/500\n",
      "4998/4998 [==============================] - 11s 2ms/sample - loss: 0.5428 - accuracy: 0.7657 - val_loss: 1.8082 - val_accuracy: 0.5957\n",
      "Epoch 237/500\n",
      "4998/4998 [==============================] - 11s 2ms/sample - loss: 0.5397 - accuracy: 0.7689 - val_loss: 1.7200 - val_accuracy: 0.6048\n",
      "Epoch 238/500\n",
      "4998/4998 [==============================] - 12s 2ms/sample - loss: 0.5401 - accuracy: 0.7693 - val_loss: 1.7795 - val_accuracy: 0.5549\n",
      "Epoch 239/500\n",
      "4998/4998 [==============================] - 11s 2ms/sample - loss: 0.5404 - accuracy: 0.7675 - val_loss: 1.8743 - val_accuracy: 0.5832\n",
      "Epoch 240/500\n",
      "4998/4998 [==============================] - 11s 2ms/sample - loss: 0.5329 - accuracy: 0.7731 - val_loss: 1.7375 - val_accuracy: 0.5730\n",
      "Epoch 241/500\n",
      "4998/4998 [==============================] - 11s 2ms/sample - loss: 0.5343 - accuracy: 0.7715 - val_loss: 1.7551 - val_accuracy: 0.5946\n",
      "Epoch 242/500\n",
      "4998/4998 [==============================] - 11s 2ms/sample - loss: 0.5409 - accuracy: 0.7627 - val_loss: 1.7919 - val_accuracy: 0.5855\n",
      "Epoch 243/500\n",
      "4998/4998 [==============================] - 11s 2ms/sample - loss: 0.5310 - accuracy: 0.7723 - val_loss: 1.8099 - val_accuracy: 0.5651\n",
      "Epoch 244/500\n",
      "4998/4998 [==============================] - 11s 2ms/sample - loss: 0.5355 - accuracy: 0.7719 - val_loss: 1.8087 - val_accuracy: 0.5787\n",
      "Epoch 245/500\n",
      "4998/4998 [==============================] - 11s 2ms/sample - loss: 0.5434 - accuracy: 0.7697 - val_loss: 1.8211 - val_accuracy: 0.5923\n",
      "Epoch 246/500\n",
      "4998/4998 [==============================] - 11s 2ms/sample - loss: 0.5336 - accuracy: 0.7705 - val_loss: 1.8508 - val_accuracy: 0.5900\n",
      "Epoch 247/500\n",
      "4998/4998 [==============================] - 11s 2ms/sample - loss: 0.5391 - accuracy: 0.7633 - val_loss: 1.8235 - val_accuracy: 0.6116\n",
      "Epoch 248/500\n",
      "4998/4998 [==============================] - 11s 2ms/sample - loss: 0.5333 - accuracy: 0.7727 - val_loss: 1.8595 - val_accuracy: 0.5991\n",
      "Epoch 249/500\n",
      "4998/4998 [==============================] - 11s 2ms/sample - loss: 0.5319 - accuracy: 0.7801 - val_loss: 1.8160 - val_accuracy: 0.6048\n",
      "Epoch 250/500\n",
      "4998/4998 [==============================] - 11s 2ms/sample - loss: 0.5243 - accuracy: 0.7743 - val_loss: 1.7925 - val_accuracy: 0.5889\n",
      "Epoch 251/500\n",
      "4998/4998 [==============================] - 11s 2ms/sample - loss: 0.5319 - accuracy: 0.7707 - val_loss: 1.8180 - val_accuracy: 0.5923\n",
      "Epoch 252/500\n",
      "4998/4998 [==============================] - 11s 2ms/sample - loss: 0.5311 - accuracy: 0.7679 - val_loss: 1.8150 - val_accuracy: 0.5946\n",
      "Epoch 253/500\n",
      "4998/4998 [==============================] - 11s 2ms/sample - loss: 0.5344 - accuracy: 0.7629 - val_loss: 1.8004 - val_accuracy: 0.5866\n",
      "Epoch 254/500\n",
      "4998/4998 [==============================] - 11s 2ms/sample - loss: 0.5406 - accuracy: 0.7729 - val_loss: 1.8447 - val_accuracy: 0.6059\n",
      "Epoch 255/500\n",
      "4998/4998 [==============================] - 11s 2ms/sample - loss: 0.5321 - accuracy: 0.7717 - val_loss: 1.9009 - val_accuracy: 0.5855\n",
      "Epoch 256/500\n",
      "4998/4998 [==============================] - 11s 2ms/sample - loss: 0.5273 - accuracy: 0.7757 - val_loss: 1.7858 - val_accuracy: 0.5810\n",
      "Epoch 257/500\n",
      "4998/4998 [==============================] - 11s 2ms/sample - loss: 0.5292 - accuracy: 0.7763 - val_loss: 1.8430 - val_accuracy: 0.6002\n",
      "Epoch 258/500\n",
      "4998/4998 [==============================] - 11s 2ms/sample - loss: 0.5347 - accuracy: 0.7683 - val_loss: 1.9110 - val_accuracy: 0.5787\n",
      "Epoch 259/500\n",
      "4998/4998 [==============================] - 11s 2ms/sample - loss: 0.5221 - accuracy: 0.7781 - val_loss: 1.9564 - val_accuracy: 0.5844\n",
      "Epoch 260/500\n",
      "4998/4998 [==============================] - 11s 2ms/sample - loss: 0.5255 - accuracy: 0.7719 - val_loss: 1.8419 - val_accuracy: 0.6082\n",
      "Epoch 261/500\n",
      "4998/4998 [==============================] - 12s 2ms/sample - loss: 0.5226 - accuracy: 0.7771 - val_loss: 1.8930 - val_accuracy: 0.5923\n",
      "Epoch 262/500\n",
      "4998/4998 [==============================] - 11s 2ms/sample - loss: 0.5293 - accuracy: 0.7707 - val_loss: 1.8819 - val_accuracy: 0.5685\n",
      "Epoch 263/500\n",
      "4998/4998 [==============================] - 11s 2ms/sample - loss: 0.5218 - accuracy: 0.7749 - val_loss: 1.8460 - val_accuracy: 0.6048\n",
      "Epoch 264/500\n",
      "4998/4998 [==============================] - 11s 2ms/sample - loss: 0.5281 - accuracy: 0.7737 - val_loss: 1.8494 - val_accuracy: 0.6104\n",
      "Epoch 265/500\n",
      "4998/4998 [==============================] - 11s 2ms/sample - loss: 0.5263 - accuracy: 0.7765 - val_loss: 2.0156 - val_accuracy: 0.5821\n",
      "Epoch 266/500\n",
      "4998/4998 [==============================] - 11s 2ms/sample - loss: 0.5240 - accuracy: 0.7723 - val_loss: 1.9933 - val_accuracy: 0.5753\n",
      "Epoch 267/500\n",
      "4998/4998 [==============================] - 11s 2ms/sample - loss: 0.5265 - accuracy: 0.7781 - val_loss: 1.9790 - val_accuracy: 0.5957\n",
      "Epoch 268/500\n",
      "4998/4998 [==============================] - 11s 2ms/sample - loss: 0.5212 - accuracy: 0.7729 - val_loss: 1.9306 - val_accuracy: 0.6048\n",
      "Epoch 269/500\n",
      "4998/4998 [==============================] - 11s 2ms/sample - loss: 0.5112 - accuracy: 0.7765 - val_loss: 1.9343 - val_accuracy: 0.6002\n",
      "Epoch 270/500\n",
      "4998/4998 [==============================] - 10s 2ms/sample - loss: 0.5161 - accuracy: 0.7781 - val_loss: 1.8816 - val_accuracy: 0.5923\n",
      "Epoch 271/500\n",
      "4998/4998 [==============================] - 11s 2ms/sample - loss: 0.5243 - accuracy: 0.7785 - val_loss: 1.9350 - val_accuracy: 0.5730\n",
      "Epoch 272/500\n",
      "4998/4998 [==============================] - 11s 2ms/sample - loss: 0.5244 - accuracy: 0.7739 - val_loss: 2.0287 - val_accuracy: 0.5968\n",
      "Epoch 273/500\n",
      "4998/4998 [==============================] - 11s 2ms/sample - loss: 0.5209 - accuracy: 0.7795 - val_loss: 2.0272 - val_accuracy: 0.5946\n",
      "Epoch 274/500\n",
      "4998/4998 [==============================] - 11s 2ms/sample - loss: 0.5081 - accuracy: 0.7781 - val_loss: 2.0056 - val_accuracy: 0.6161\n",
      "Epoch 275/500\n",
      "4998/4998 [==============================] - 11s 2ms/sample - loss: 0.5258 - accuracy: 0.7731 - val_loss: 2.0701 - val_accuracy: 0.5708\n",
      "Epoch 276/500\n",
      "4998/4998 [==============================] - 11s 2ms/sample - loss: 0.5224 - accuracy: 0.7711 - val_loss: 2.1675 - val_accuracy: 0.5696\n",
      "Epoch 277/500\n",
      "4998/4998 [==============================] - 11s 2ms/sample - loss: 0.5122 - accuracy: 0.7809 - val_loss: 2.1557 - val_accuracy: 0.5606\n",
      "Epoch 278/500\n",
      "4998/4998 [==============================] - 11s 2ms/sample - loss: 0.5113 - accuracy: 0.7771 - val_loss: 2.1032 - val_accuracy: 0.5708\n",
      "Epoch 279/500\n",
      "4998/4998 [==============================] - 11s 2ms/sample - loss: 0.5145 - accuracy: 0.7765 - val_loss: 2.0224 - val_accuracy: 0.5991\n",
      "Epoch 280/500\n",
      "4998/4998 [==============================] - 11s 2ms/sample - loss: 0.5204 - accuracy: 0.7699 - val_loss: 2.0120 - val_accuracy: 0.5980\n",
      "Epoch 281/500\n",
      "4998/4998 [==============================] - 10s 2ms/sample - loss: 0.5132 - accuracy: 0.7827 - val_loss: 2.1666 - val_accuracy: 0.5776\n",
      "Epoch 282/500\n",
      "4998/4998 [==============================] - 11s 2ms/sample - loss: 0.5121 - accuracy: 0.7765 - val_loss: 2.0218 - val_accuracy: 0.5685\n",
      "Epoch 283/500\n",
      "4998/4998 [==============================] - 11s 2ms/sample - loss: 0.5118 - accuracy: 0.7855 - val_loss: 1.9411 - val_accuracy: 0.6002\n",
      "Epoch 284/500\n",
      "4998/4998 [==============================] - 11s 2ms/sample - loss: 0.5208 - accuracy: 0.7763 - val_loss: 1.9996 - val_accuracy: 0.5889\n",
      "Epoch 285/500\n",
      "4998/4998 [==============================] - 11s 2ms/sample - loss: 0.5129 - accuracy: 0.7825 - val_loss: 2.0173 - val_accuracy: 0.5968\n",
      "Epoch 286/500\n",
      "4998/4998 [==============================] - 11s 2ms/sample - loss: 0.5108 - accuracy: 0.7851 - val_loss: 2.0285 - val_accuracy: 0.6036\n",
      "Epoch 287/500\n",
      "4998/4998 [==============================] - 11s 2ms/sample - loss: 0.5172 - accuracy: 0.7825 - val_loss: 2.0445 - val_accuracy: 0.5946\n",
      "Epoch 288/500\n",
      "4998/4998 [==============================] - 11s 2ms/sample - loss: 0.5052 - accuracy: 0.7821 - val_loss: 2.1058 - val_accuracy: 0.5730\n",
      "Epoch 289/500\n",
      "4998/4998 [==============================] - 11s 2ms/sample - loss: 0.5104 - accuracy: 0.7795 - val_loss: 1.9714 - val_accuracy: 0.6025\n",
      "Epoch 290/500\n",
      "4998/4998 [==============================] - 11s 2ms/sample - loss: 0.5192 - accuracy: 0.7759 - val_loss: 2.1505 - val_accuracy: 0.5878\n",
      "Epoch 291/500\n",
      "4998/4998 [==============================] - 11s 2ms/sample - loss: 0.5079 - accuracy: 0.7799 - val_loss: 2.1859 - val_accuracy: 0.5900\n",
      "Epoch 292/500\n",
      "4998/4998 [==============================] - 10s 2ms/sample - loss: 0.5067 - accuracy: 0.7869 - val_loss: 2.0585 - val_accuracy: 0.6048\n",
      "Epoch 293/500\n",
      "4998/4998 [==============================] - 11s 2ms/sample - loss: 0.5095 - accuracy: 0.7783 - val_loss: 2.0385 - val_accuracy: 0.5946\n",
      "Epoch 294/500\n",
      "4998/4998 [==============================] - 11s 2ms/sample - loss: 0.5022 - accuracy: 0.7883 - val_loss: 1.9924 - val_accuracy: 0.5946\n",
      "Epoch 295/500\n",
      "4998/4998 [==============================] - 11s 2ms/sample - loss: 0.4992 - accuracy: 0.7853 - val_loss: 1.9744 - val_accuracy: 0.6048\n",
      "Epoch 296/500\n",
      "4998/4998 [==============================] - 11s 2ms/sample - loss: 0.4956 - accuracy: 0.7899 - val_loss: 2.0483 - val_accuracy: 0.6059\n",
      "Epoch 297/500\n",
      "4998/4998 [==============================] - 11s 2ms/sample - loss: 0.5032 - accuracy: 0.7829 - val_loss: 2.0896 - val_accuracy: 0.6002\n",
      "Epoch 298/500\n",
      "4998/4998 [==============================] - 11s 2ms/sample - loss: 0.4948 - accuracy: 0.7881 - val_loss: 2.1001 - val_accuracy: 0.6014\n",
      "Epoch 299/500\n",
      "4998/4998 [==============================] - 11s 2ms/sample - loss: 0.5104 - accuracy: 0.7867 - val_loss: 2.1042 - val_accuracy: 0.6082\n",
      "Epoch 300/500\n",
      "4998/4998 [==============================] - 11s 2ms/sample - loss: 0.5031 - accuracy: 0.7813 - val_loss: 2.1270 - val_accuracy: 0.5696\n",
      "Epoch 301/500\n",
      "4998/4998 [==============================] - 11s 2ms/sample - loss: 0.5056 - accuracy: 0.7845 - val_loss: 2.1543 - val_accuracy: 0.5719\n",
      "Epoch 302/500\n",
      "4998/4998 [==============================] - 11s 2ms/sample - loss: 0.4956 - accuracy: 0.7831 - val_loss: 2.1863 - val_accuracy: 0.6014\n",
      "Epoch 303/500\n",
      "4998/4998 [==============================] - 10s 2ms/sample - loss: 0.4997 - accuracy: 0.7871 - val_loss: 2.1762 - val_accuracy: 0.6048\n",
      "Epoch 304/500\n",
      "4998/4998 [==============================] - 11s 2ms/sample - loss: 0.4936 - accuracy: 0.7889 - val_loss: 2.2331 - val_accuracy: 0.5617\n",
      "Epoch 305/500\n",
      "4998/4998 [==============================] - 11s 2ms/sample - loss: 0.5055 - accuracy: 0.7833 - val_loss: 2.0974 - val_accuracy: 0.5968\n",
      "Epoch 306/500\n",
      "4998/4998 [==============================] - 11s 2ms/sample - loss: 0.4985 - accuracy: 0.7811 - val_loss: 2.1283 - val_accuracy: 0.5798\n",
      "Epoch 307/500\n",
      "4998/4998 [==============================] - 11s 2ms/sample - loss: 0.4930 - accuracy: 0.7865 - val_loss: 2.1349 - val_accuracy: 0.5855\n",
      "Epoch 308/500\n",
      "4998/4998 [==============================] - 11s 2ms/sample - loss: 0.4886 - accuracy: 0.7879 - val_loss: 2.1335 - val_accuracy: 0.6014\n",
      "Epoch 309/500\n",
      "4998/4998 [==============================] - 11s 2ms/sample - loss: 0.4962 - accuracy: 0.7833 - val_loss: 2.3096 - val_accuracy: 0.5696\n",
      "Epoch 310/500\n",
      "4998/4998 [==============================] - 11s 2ms/sample - loss: 0.4926 - accuracy: 0.7825 - val_loss: 2.1921 - val_accuracy: 0.5798\n",
      "Epoch 311/500\n",
      "4998/4998 [==============================] - 11s 2ms/sample - loss: 0.4997 - accuracy: 0.7873 - val_loss: 2.1264 - val_accuracy: 0.5821\n",
      "Epoch 312/500\n",
      "4998/4998 [==============================] - 11s 2ms/sample - loss: 0.4975 - accuracy: 0.7869 - val_loss: 2.1454 - val_accuracy: 0.5866\n",
      "Epoch 313/500\n",
      "4998/4998 [==============================] - 11s 2ms/sample - loss: 0.4860 - accuracy: 0.7931 - val_loss: 2.2199 - val_accuracy: 0.5878\n",
      "Epoch 314/500\n",
      "4998/4998 [==============================] - 10s 2ms/sample - loss: 0.4971 - accuracy: 0.7895 - val_loss: 2.1743 - val_accuracy: 0.6116\n",
      "Epoch 315/500\n",
      "4998/4998 [==============================] - 11s 2ms/sample - loss: 0.4950 - accuracy: 0.7847 - val_loss: 2.0919 - val_accuracy: 0.5934\n",
      "Epoch 316/500\n",
      "4998/4998 [==============================] - 11s 2ms/sample - loss: 0.5011 - accuracy: 0.7789 - val_loss: 2.1114 - val_accuracy: 0.5866\n",
      "Epoch 317/500\n",
      "4998/4998 [==============================] - 11s 2ms/sample - loss: 0.4890 - accuracy: 0.7901 - val_loss: 2.2388 - val_accuracy: 0.6059\n",
      "Epoch 318/500\n",
      "4998/4998 [==============================] - 11s 2ms/sample - loss: 0.4929 - accuracy: 0.7875 - val_loss: 2.2138 - val_accuracy: 0.5980\n",
      "Epoch 319/500\n",
      "4998/4998 [==============================] - 11s 2ms/sample - loss: 0.4990 - accuracy: 0.7881 - val_loss: 2.1385 - val_accuracy: 0.6127\n",
      "Epoch 320/500\n",
      "4998/4998 [==============================] - 11s 2ms/sample - loss: 0.4993 - accuracy: 0.7919 - val_loss: 2.2025 - val_accuracy: 0.5991\n",
      "Epoch 321/500\n",
      "4998/4998 [==============================] - 11s 2ms/sample - loss: 0.4861 - accuracy: 0.7943 - val_loss: 2.2456 - val_accuracy: 0.5855\n",
      "Epoch 322/500\n",
      "4998/4998 [==============================] - 11s 2ms/sample - loss: 0.4995 - accuracy: 0.7945 - val_loss: 2.2853 - val_accuracy: 0.5968\n",
      "Epoch 323/500\n",
      "4998/4998 [==============================] - 11s 2ms/sample - loss: 0.4972 - accuracy: 0.7857 - val_loss: 2.1774 - val_accuracy: 0.5504\n",
      "Epoch 324/500\n",
      "4998/4998 [==============================] - 11s 2ms/sample - loss: 0.4931 - accuracy: 0.7929 - val_loss: 2.2491 - val_accuracy: 0.5991\n",
      "Epoch 325/500\n",
      "4998/4998 [==============================] - 10s 2ms/sample - loss: 0.4977 - accuracy: 0.7837 - val_loss: 2.2153 - val_accuracy: 0.5934\n",
      "Epoch 326/500\n",
      "4998/4998 [==============================] - 11s 2ms/sample - loss: 0.4987 - accuracy: 0.7875 - val_loss: 2.1979 - val_accuracy: 0.5980\n",
      "Epoch 327/500\n",
      "4998/4998 [==============================] - 11s 2ms/sample - loss: 0.4832 - accuracy: 0.7889 - val_loss: 2.3118 - val_accuracy: 0.6036\n",
      "Epoch 328/500\n",
      "4998/4998 [==============================] - 11s 2ms/sample - loss: 0.4906 - accuracy: 0.7863 - val_loss: 2.2149 - val_accuracy: 0.6014\n"
     ]
    },
    {
     "name": "stdout",
     "output_type": "stream",
     "text": [
      "Epoch 329/500\n",
      "4998/4998 [==============================] - 11s 2ms/sample - loss: 0.4885 - accuracy: 0.7915 - val_loss: 2.2610 - val_accuracy: 0.6002\n",
      "Epoch 330/500\n",
      "4998/4998 [==============================] - 11s 2ms/sample - loss: 0.4944 - accuracy: 0.7931 - val_loss: 2.3366 - val_accuracy: 0.5980\n",
      "Epoch 331/500\n",
      "4998/4998 [==============================] - 11s 2ms/sample - loss: 0.4796 - accuracy: 0.7987 - val_loss: 2.3954 - val_accuracy: 0.5742\n",
      "Epoch 332/500\n",
      "4998/4998 [==============================] - 11s 2ms/sample - loss: 0.4915 - accuracy: 0.7897 - val_loss: 2.2645 - val_accuracy: 0.5844\n",
      "Epoch 333/500\n",
      "4998/4998 [==============================] - 11s 2ms/sample - loss: 0.4795 - accuracy: 0.7933 - val_loss: 2.4256 - val_accuracy: 0.5696\n",
      "Epoch 334/500\n",
      "4998/4998 [==============================] - 11s 2ms/sample - loss: 0.4884 - accuracy: 0.7933 - val_loss: 2.2736 - val_accuracy: 0.5855\n",
      "Epoch 335/500\n",
      "4998/4998 [==============================] - 10s 2ms/sample - loss: 0.4811 - accuracy: 0.7913 - val_loss: 2.3259 - val_accuracy: 0.5957\n",
      "Epoch 336/500\n",
      "4998/4998 [==============================] - 10s 2ms/sample - loss: 0.5019 - accuracy: 0.7833 - val_loss: 2.3650 - val_accuracy: 0.5934\n",
      "Epoch 337/500\n",
      "4998/4998 [==============================] - 11s 2ms/sample - loss: 0.4816 - accuracy: 0.7985 - val_loss: 2.3080 - val_accuracy: 0.5900\n",
      "Epoch 338/500\n",
      "4998/4998 [==============================] - 11s 2ms/sample - loss: 0.4797 - accuracy: 0.7913 - val_loss: 2.3413 - val_accuracy: 0.5957\n",
      "Epoch 339/500\n",
      "4998/4998 [==============================] - 11s 2ms/sample - loss: 0.4845 - accuracy: 0.7897 - val_loss: 2.3267 - val_accuracy: 0.5742\n",
      "Epoch 340/500\n",
      "4998/4998 [==============================] - 11s 2ms/sample - loss: 0.4858 - accuracy: 0.7909 - val_loss: 2.4098 - val_accuracy: 0.5889\n",
      "Epoch 341/500\n",
      "4998/4998 [==============================] - 11s 2ms/sample - loss: 0.4851 - accuracy: 0.7931 - val_loss: 2.3568 - val_accuracy: 0.6002\n",
      "Epoch 342/500\n",
      "4998/4998 [==============================] - 11s 2ms/sample - loss: 0.4857 - accuracy: 0.7965 - val_loss: 2.2960 - val_accuracy: 0.5957\n",
      "Epoch 343/500\n",
      "4998/4998 [==============================] - 11s 2ms/sample - loss: 0.4740 - accuracy: 0.7979 - val_loss: 2.4927 - val_accuracy: 0.5832\n",
      "Epoch 344/500\n",
      "4998/4998 [==============================] - 11s 2ms/sample - loss: 0.4918 - accuracy: 0.7897 - val_loss: 2.3785 - val_accuracy: 0.6070\n",
      "Epoch 345/500\n",
      "4998/4998 [==============================] - 11s 2ms/sample - loss: 0.4884 - accuracy: 0.7897 - val_loss: 2.3226 - val_accuracy: 0.5889\n",
      "Epoch 346/500\n",
      "4998/4998 [==============================] - 11s 2ms/sample - loss: 0.4757 - accuracy: 0.7983 - val_loss: 2.3165 - val_accuracy: 0.5923\n",
      "Epoch 347/500\n",
      "4998/4998 [==============================] - 11s 2ms/sample - loss: 0.4795 - accuracy: 0.7975 - val_loss: 2.3727 - val_accuracy: 0.5889\n",
      "Epoch 348/500\n",
      "4998/4998 [==============================] - 10s 2ms/sample - loss: 0.4921 - accuracy: 0.7861 - val_loss: 2.3019 - val_accuracy: 0.5753\n",
      "Epoch 349/500\n",
      "4998/4998 [==============================] - 11s 2ms/sample - loss: 0.4715 - accuracy: 0.7941 - val_loss: 2.3394 - val_accuracy: 0.5663\n",
      "Epoch 350/500\n",
      "4998/4998 [==============================] - 11s 2ms/sample - loss: 0.4871 - accuracy: 0.7927 - val_loss: 2.2949 - val_accuracy: 0.5866\n",
      "Epoch 351/500\n",
      "4998/4998 [==============================] - 11s 2ms/sample - loss: 0.4768 - accuracy: 0.7973 - val_loss: 2.3169 - val_accuracy: 0.6048\n",
      "Epoch 352/500\n",
      "4998/4998 [==============================] - 11s 2ms/sample - loss: 0.4809 - accuracy: 0.7987 - val_loss: 2.4033 - val_accuracy: 0.5844\n",
      "Epoch 353/500\n",
      "4998/4998 [==============================] - 11s 2ms/sample - loss: 0.4750 - accuracy: 0.7905 - val_loss: 2.6148 - val_accuracy: 0.5866\n",
      "Epoch 354/500\n",
      "4998/4998 [==============================] - 11s 2ms/sample - loss: 0.4892 - accuracy: 0.7939 - val_loss: 2.3866 - val_accuracy: 0.6059\n",
      "Epoch 355/500\n",
      "4998/4998 [==============================] - 11s 2ms/sample - loss: 0.4770 - accuracy: 0.7981 - val_loss: 2.4098 - val_accuracy: 0.5889\n",
      "Epoch 356/500\n",
      "4998/4998 [==============================] - 11s 2ms/sample - loss: 0.4749 - accuracy: 0.7923 - val_loss: 2.4330 - val_accuracy: 0.5730\n",
      "Epoch 357/500\n",
      "4998/4998 [==============================] - 11s 2ms/sample - loss: 0.4701 - accuracy: 0.7945 - val_loss: 2.4038 - val_accuracy: 0.5934\n",
      "Epoch 358/500\n",
      "4998/4998 [==============================] - 11s 2ms/sample - loss: 0.4905 - accuracy: 0.7891 - val_loss: 2.5321 - val_accuracy: 0.6002\n",
      "Epoch 359/500\n",
      "4998/4998 [==============================] - 10s 2ms/sample - loss: 0.4834 - accuracy: 0.8005 - val_loss: 2.4418 - val_accuracy: 0.5708\n",
      "Epoch 360/500\n",
      "4998/4998 [==============================] - 11s 2ms/sample - loss: 0.4685 - accuracy: 0.7989 - val_loss: 2.4323 - val_accuracy: 0.5889\n",
      "Epoch 361/500\n",
      "4998/4998 [==============================] - 11s 2ms/sample - loss: 0.4764 - accuracy: 0.7911 - val_loss: 2.3892 - val_accuracy: 0.5957\n",
      "Epoch 362/500\n",
      "4998/4998 [==============================] - 11s 2ms/sample - loss: 0.4698 - accuracy: 0.8017 - val_loss: 2.3502 - val_accuracy: 0.5878\n",
      "Epoch 363/500\n",
      "4998/4998 [==============================] - 11s 2ms/sample - loss: 0.4750 - accuracy: 0.8013 - val_loss: 2.3649 - val_accuracy: 0.5923\n",
      "Epoch 364/500\n",
      "4998/4998 [==============================] - 11s 2ms/sample - loss: 0.4762 - accuracy: 0.7911 - val_loss: 2.5413 - val_accuracy: 0.6002\n",
      "Epoch 365/500\n",
      "4998/4998 [==============================] - 11s 2ms/sample - loss: 0.4691 - accuracy: 0.7949 - val_loss: 2.4176 - val_accuracy: 0.5889\n",
      "Epoch 366/500\n",
      "4998/4998 [==============================] - 11s 2ms/sample - loss: 0.4742 - accuracy: 0.7897 - val_loss: 2.6125 - val_accuracy: 0.6002\n",
      "Epoch 367/500\n",
      "4998/4998 [==============================] - 11s 2ms/sample - loss: 0.4653 - accuracy: 0.7991 - val_loss: 2.5226 - val_accuracy: 0.5798\n",
      "Epoch 368/500\n",
      "4998/4998 [==============================] - 11s 2ms/sample - loss: 0.4858 - accuracy: 0.7917 - val_loss: 2.4289 - val_accuracy: 0.5980\n",
      "Epoch 369/500\n",
      "4998/4998 [==============================] - 11s 2ms/sample - loss: 0.4636 - accuracy: 0.7987 - val_loss: 2.6080 - val_accuracy: 0.5821\n",
      "Epoch 370/500\n",
      "4998/4998 [==============================] - 10s 2ms/sample - loss: 0.4671 - accuracy: 0.7973 - val_loss: 2.5658 - val_accuracy: 0.5832\n",
      "Epoch 371/500\n",
      "4998/4998 [==============================] - 11s 2ms/sample - loss: 0.4653 - accuracy: 0.8043 - val_loss: 2.4344 - val_accuracy: 0.6229\n",
      "Epoch 372/500\n",
      "4998/4998 [==============================] - 11s 2ms/sample - loss: 0.4750 - accuracy: 0.7973 - val_loss: 2.5065 - val_accuracy: 0.6025\n",
      "Epoch 373/500\n",
      "4998/4998 [==============================] - 11s 2ms/sample - loss: 0.4853 - accuracy: 0.7963 - val_loss: 2.5390 - val_accuracy: 0.5900\n",
      "Epoch 374/500\n",
      "4998/4998 [==============================] - 11s 2ms/sample - loss: 0.4662 - accuracy: 0.8009 - val_loss: 2.5825 - val_accuracy: 0.6014\n",
      "Epoch 375/500\n",
      "4998/4998 [==============================] - 11s 2ms/sample - loss: 0.4670 - accuracy: 0.7981 - val_loss: 2.5650 - val_accuracy: 0.5968\n",
      "Epoch 376/500\n",
      "4998/4998 [==============================] - 11s 2ms/sample - loss: 0.4628 - accuracy: 0.8005 - val_loss: 2.5941 - val_accuracy: 0.6036\n",
      "Epoch 377/500\n",
      "4998/4998 [==============================] - 12s 2ms/sample - loss: 0.4685 - accuracy: 0.8011 - val_loss: 2.6110 - val_accuracy: 0.5719\n",
      "Epoch 378/500\n",
      "4998/4998 [==============================] - 12s 2ms/sample - loss: 0.4646 - accuracy: 0.8025 - val_loss: 2.5435 - val_accuracy: 0.6127\n",
      "Epoch 379/500\n",
      "4998/4998 [==============================] - 11s 2ms/sample - loss: 0.4587 - accuracy: 0.8013 - val_loss: 2.5144 - val_accuracy: 0.6229\n",
      "Epoch 380/500\n",
      "4998/4998 [==============================] - 11s 2ms/sample - loss: 0.4636 - accuracy: 0.8027 - val_loss: 2.5484 - val_accuracy: 0.5946\n",
      "Epoch 381/500\n",
      "4998/4998 [==============================] - 12s 2ms/sample - loss: 0.4624 - accuracy: 0.7991 - val_loss: 2.5193 - val_accuracy: 0.6127\n",
      "Epoch 382/500\n",
      "4998/4998 [==============================] - 11s 2ms/sample - loss: 0.4655 - accuracy: 0.8025 - val_loss: 2.5054 - val_accuracy: 0.6025\n",
      "Epoch 383/500\n",
      "4998/4998 [==============================] - 11s 2ms/sample - loss: 0.4722 - accuracy: 0.8041 - val_loss: 2.6597 - val_accuracy: 0.5900\n",
      "Epoch 384/500\n",
      "4998/4998 [==============================] - 11s 2ms/sample - loss: 0.4576 - accuracy: 0.8015 - val_loss: 2.6115 - val_accuracy: 0.6025\n",
      "Epoch 385/500\n",
      "4998/4998 [==============================] - 11s 2ms/sample - loss: 0.4697 - accuracy: 0.8017 - val_loss: 2.4955 - val_accuracy: 0.6138\n",
      "Epoch 386/500\n",
      "4998/4998 [==============================] - 11s 2ms/sample - loss: 0.4633 - accuracy: 0.7993 - val_loss: 2.6766 - val_accuracy: 0.5900\n",
      "Epoch 387/500\n",
      "4998/4998 [==============================] - 11s 2ms/sample - loss: 0.4627 - accuracy: 0.8037 - val_loss: 2.5421 - val_accuracy: 0.6138\n",
      "Epoch 388/500\n",
      "4998/4998 [==============================] - 11s 2ms/sample - loss: 0.4575 - accuracy: 0.7999 - val_loss: 2.5914 - val_accuracy: 0.6161\n",
      "Epoch 389/500\n",
      "4998/4998 [==============================] - 11s 2ms/sample - loss: 0.4614 - accuracy: 0.7979 - val_loss: 2.6593 - val_accuracy: 0.5900\n",
      "Epoch 390/500\n",
      "4998/4998 [==============================] - 11s 2ms/sample - loss: 0.4625 - accuracy: 0.8065 - val_loss: 2.6308 - val_accuracy: 0.5968\n",
      "Epoch 391/500\n",
      "4998/4998 [==============================] - 11s 2ms/sample - loss: 0.4672 - accuracy: 0.8001 - val_loss: 2.5785 - val_accuracy: 0.5538\n",
      "Epoch 392/500\n",
      "4998/4998 [==============================] - 11s 2ms/sample - loss: 0.4624 - accuracy: 0.8003 - val_loss: 2.6583 - val_accuracy: 0.5923\n",
      "Epoch 393/500\n",
      "4998/4998 [==============================] - 11s 2ms/sample - loss: 0.4498 - accuracy: 0.8017 - val_loss: 2.6295 - val_accuracy: 0.5900\n",
      "Epoch 394/500\n",
      "4998/4998 [==============================] - 11s 2ms/sample - loss: 0.4633 - accuracy: 0.8029 - val_loss: 2.7215 - val_accuracy: 0.5980\n",
      "Epoch 395/500\n",
      "4998/4998 [==============================] - 11s 2ms/sample - loss: 0.4626 - accuracy: 0.7981 - val_loss: 2.6633 - val_accuracy: 0.5878\n",
      "Epoch 396/500\n",
      "4998/4998 [==============================] - 11s 2ms/sample - loss: 0.4585 - accuracy: 0.8017 - val_loss: 2.6447 - val_accuracy: 0.5946\n",
      "Epoch 397/500\n",
      "4998/4998 [==============================] - 11s 2ms/sample - loss: 0.4605 - accuracy: 0.8063 - val_loss: 2.7455 - val_accuracy: 0.6025\n",
      "Epoch 398/500\n",
      "4998/4998 [==============================] - 11s 2ms/sample - loss: 0.4531 - accuracy: 0.8069 - val_loss: 2.7493 - val_accuracy: 0.5719\n",
      "Epoch 399/500\n",
      "4998/4998 [==============================] - 11s 2ms/sample - loss: 0.4583 - accuracy: 0.8069 - val_loss: 2.7439 - val_accuracy: 0.5912\n",
      "Epoch 400/500\n",
      "4998/4998 [==============================] - 11s 2ms/sample - loss: 0.4527 - accuracy: 0.8015 - val_loss: 2.6038 - val_accuracy: 0.6025\n",
      "Epoch 401/500\n",
      "4998/4998 [==============================] - 11s 2ms/sample - loss: 0.4619 - accuracy: 0.8021 - val_loss: 2.7579 - val_accuracy: 0.5934\n",
      "Epoch 402/500\n",
      "4998/4998 [==============================] - 11s 2ms/sample - loss: 0.4517 - accuracy: 0.8001 - val_loss: 2.8326 - val_accuracy: 0.6082\n",
      "Epoch 403/500\n",
      "4998/4998 [==============================] - 11s 2ms/sample - loss: 0.4707 - accuracy: 0.8033 - val_loss: 2.7101 - val_accuracy: 0.6183\n",
      "Epoch 404/500\n",
      "4998/4998 [==============================] - 11s 2ms/sample - loss: 0.4551 - accuracy: 0.8049 - val_loss: 2.8179 - val_accuracy: 0.5844\n",
      "Epoch 405/500\n",
      "4998/4998 [==============================] - 12s 2ms/sample - loss: 0.4688 - accuracy: 0.7995 - val_loss: 2.7831 - val_accuracy: 0.6070\n",
      "Epoch 406/500\n",
      "4998/4998 [==============================] - 11s 2ms/sample - loss: 0.4656 - accuracy: 0.8067 - val_loss: 2.7773 - val_accuracy: 0.6229\n",
      "Epoch 407/500\n",
      "4998/4998 [==============================] - 11s 2ms/sample - loss: 0.4500 - accuracy: 0.8035 - val_loss: 2.7499 - val_accuracy: 0.6036\n",
      "Epoch 408/500\n",
      "4998/4998 [==============================] - 11s 2ms/sample - loss: 0.4613 - accuracy: 0.7977 - val_loss: 2.7570 - val_accuracy: 0.5696\n",
      "Epoch 409/500\n",
      "4998/4998 [==============================] - 11s 2ms/sample - loss: 0.4568 - accuracy: 0.8075 - val_loss: 2.7622 - val_accuracy: 0.5719\n",
      "Epoch 410/500\n",
      "4998/4998 [==============================] - 11s 2ms/sample - loss: 0.4588 - accuracy: 0.8045 - val_loss: 2.8505 - val_accuracy: 0.5629\n",
      "Epoch 411/500\n",
      "4998/4998 [==============================] - 11s 2ms/sample - loss: 0.4606 - accuracy: 0.8045 - val_loss: 2.7421 - val_accuracy: 0.6161\n",
      "Epoch 412/500\n",
      "4998/4998 [==============================] - 11s 2ms/sample - loss: 0.4493 - accuracy: 0.8021 - val_loss: 2.8374 - val_accuracy: 0.5912\n",
      "Epoch 413/500\n",
      "4998/4998 [==============================] - 10s 2ms/sample - loss: 0.4572 - accuracy: 0.8049 - val_loss: 2.7290 - val_accuracy: 0.5810\n",
      "Epoch 414/500\n",
      "4998/4998 [==============================] - 11s 2ms/sample - loss: 0.4444 - accuracy: 0.8111 - val_loss: 2.7867 - val_accuracy: 0.6025\n",
      "Epoch 415/500\n",
      "4998/4998 [==============================] - 11s 2ms/sample - loss: 0.4527 - accuracy: 0.8121 - val_loss: 2.7530 - val_accuracy: 0.5934\n",
      "Epoch 416/500\n",
      "4998/4998 [==============================] - 11s 2ms/sample - loss: 0.4596 - accuracy: 0.8065 - val_loss: 2.7753 - val_accuracy: 0.5991\n",
      "Epoch 417/500\n",
      "4998/4998 [==============================] - 11s 2ms/sample - loss: 0.4378 - accuracy: 0.8133 - val_loss: 2.9170 - val_accuracy: 0.6036\n",
      "Epoch 418/500\n",
      "4998/4998 [==============================] - 11s 2ms/sample - loss: 0.4650 - accuracy: 0.8071 - val_loss: 2.7992 - val_accuracy: 0.6093\n",
      "Epoch 419/500\n",
      "4998/4998 [==============================] - 11s 2ms/sample - loss: 0.4446 - accuracy: 0.8087 - val_loss: 2.8516 - val_accuracy: 0.6229\n",
      "Epoch 420/500\n",
      "4998/4998 [==============================] - 11s 2ms/sample - loss: 0.4416 - accuracy: 0.8117 - val_loss: 2.9100 - val_accuracy: 0.5787\n",
      "Epoch 421/500\n",
      "4998/4998 [==============================] - 11s 2ms/sample - loss: 0.4509 - accuracy: 0.8093 - val_loss: 2.7597 - val_accuracy: 0.6116\n",
      "Epoch 422/500\n",
      "4998/4998 [==============================] - 11s 2ms/sample - loss: 0.4448 - accuracy: 0.8087 - val_loss: 2.7095 - val_accuracy: 0.6217\n",
      "Epoch 423/500\n",
      "4998/4998 [==============================] - 11s 2ms/sample - loss: 0.4553 - accuracy: 0.8101 - val_loss: 2.8185 - val_accuracy: 0.6014\n",
      "Epoch 424/500\n",
      "4998/4998 [==============================] - 10s 2ms/sample - loss: 0.4499 - accuracy: 0.8065 - val_loss: 2.9579 - val_accuracy: 0.6082\n",
      "Epoch 425/500\n",
      "4998/4998 [==============================] - 11s 2ms/sample - loss: 0.4719 - accuracy: 0.8069 - val_loss: 2.7421 - val_accuracy: 0.5912\n",
      "Epoch 426/500\n",
      "4998/4998 [==============================] - 11s 2ms/sample - loss: 0.4453 - accuracy: 0.8103 - val_loss: 2.9158 - val_accuracy: 0.5957\n",
      "Epoch 427/500\n",
      "4998/4998 [==============================] - 11s 2ms/sample - loss: 0.4503 - accuracy: 0.8051 - val_loss: 2.8586 - val_accuracy: 0.5946\n",
      "Epoch 428/500\n",
      "4998/4998 [==============================] - 11s 2ms/sample - loss: 0.4509 - accuracy: 0.8065 - val_loss: 2.8563 - val_accuracy: 0.6082\n",
      "Epoch 429/500\n",
      "4998/4998 [==============================] - 11s 2ms/sample - loss: 0.4520 - accuracy: 0.8097 - val_loss: 2.8164 - val_accuracy: 0.5968\n",
      "Epoch 430/500\n",
      "4998/4998 [==============================] - 11s 2ms/sample - loss: 0.4471 - accuracy: 0.8065 - val_loss: 2.9930 - val_accuracy: 0.5844\n",
      "Epoch 431/500\n",
      "4998/4998 [==============================] - 11s 2ms/sample - loss: 0.4527 - accuracy: 0.8043 - val_loss: 2.8724 - val_accuracy: 0.5968\n",
      "Epoch 432/500\n",
      "4998/4998 [==============================] - 11s 2ms/sample - loss: 0.4542 - accuracy: 0.8141 - val_loss: 2.8010 - val_accuracy: 0.6116\n",
      "Epoch 433/500\n",
      "4998/4998 [==============================] - 11s 2ms/sample - loss: 0.4448 - accuracy: 0.8065 - val_loss: 3.0970 - val_accuracy: 0.5617\n",
      "Epoch 434/500\n",
      "4998/4998 [==============================] - 11s 2ms/sample - loss: 0.4425 - accuracy: 0.8121 - val_loss: 2.8296 - val_accuracy: 0.5855\n",
      "Epoch 435/500\n",
      "4998/4998 [==============================] - 10s 2ms/sample - loss: 0.4426 - accuracy: 0.8089 - val_loss: 2.9085 - val_accuracy: 0.5844\n",
      "Epoch 436/500\n",
      "4998/4998 [==============================] - 11s 2ms/sample - loss: 0.4587 - accuracy: 0.8065 - val_loss: 2.8981 - val_accuracy: 0.5968\n",
      "Epoch 437/500\n",
      "4998/4998 [==============================] - 11s 2ms/sample - loss: 0.4473 - accuracy: 0.8143 - val_loss: 2.9213 - val_accuracy: 0.5810\n"
     ]
    },
    {
     "name": "stdout",
     "output_type": "stream",
     "text": [
      "Epoch 438/500\n",
      "4998/4998 [==============================] - 11s 2ms/sample - loss: 0.4357 - accuracy: 0.8121 - val_loss: 2.8156 - val_accuracy: 0.6025\n",
      "Epoch 439/500\n",
      "4998/4998 [==============================] - 11s 2ms/sample - loss: 0.4506 - accuracy: 0.8125 - val_loss: 2.8250 - val_accuracy: 0.5787\n",
      "Epoch 440/500\n",
      "4998/4998 [==============================] - 11s 2ms/sample - loss: 0.4401 - accuracy: 0.8093 - val_loss: 2.8683 - val_accuracy: 0.5968\n",
      "Epoch 441/500\n",
      "4998/4998 [==============================] - 11s 2ms/sample - loss: 0.4468 - accuracy: 0.8141 - val_loss: 2.9810 - val_accuracy: 0.5764\n",
      "Epoch 442/500\n",
      "4998/4998 [==============================] - 11s 2ms/sample - loss: 0.4507 - accuracy: 0.8051 - val_loss: 3.0111 - val_accuracy: 0.5821\n",
      "Epoch 443/500\n",
      "4998/4998 [==============================] - 11s 2ms/sample - loss: 0.4353 - accuracy: 0.8125 - val_loss: 2.9552 - val_accuracy: 0.5923\n",
      "Epoch 444/500\n",
      "4998/4998 [==============================] - 11s 2ms/sample - loss: 0.4542 - accuracy: 0.8119 - val_loss: 2.9321 - val_accuracy: 0.5821\n",
      "Epoch 445/500\n",
      "4998/4998 [==============================] - 11s 2ms/sample - loss: 0.4463 - accuracy: 0.8051 - val_loss: 2.8766 - val_accuracy: 0.5776\n",
      "Epoch 446/500\n",
      "4998/4998 [==============================] - 10s 2ms/sample - loss: 0.4487 - accuracy: 0.8089 - val_loss: 2.9911 - val_accuracy: 0.5889\n",
      "Epoch 447/500\n",
      "4998/4998 [==============================] - 11s 2ms/sample - loss: 0.4322 - accuracy: 0.8207 - val_loss: 2.9883 - val_accuracy: 0.5878\n",
      "Epoch 448/500\n",
      "4998/4998 [==============================] - 11s 2ms/sample - loss: 0.4378 - accuracy: 0.8103 - val_loss: 2.9652 - val_accuracy: 0.5912\n",
      "Epoch 449/500\n",
      "4998/4998 [==============================] - 11s 2ms/sample - loss: 0.4504 - accuracy: 0.8095 - val_loss: 2.8292 - val_accuracy: 0.6082\n",
      "Epoch 450/500\n",
      "4998/4998 [==============================] - 11s 2ms/sample - loss: 0.4377 - accuracy: 0.8109 - val_loss: 2.8311 - val_accuracy: 0.5957\n",
      "Epoch 451/500\n",
      "4998/4998 [==============================] - 11s 2ms/sample - loss: 0.4525 - accuracy: 0.8103 - val_loss: 3.0396 - val_accuracy: 0.5742\n",
      "Epoch 452/500\n",
      "4998/4998 [==============================] - 11s 2ms/sample - loss: 0.4485 - accuracy: 0.8093 - val_loss: 2.9015 - val_accuracy: 0.6149\n",
      "Epoch 453/500\n",
      "4998/4998 [==============================] - 11s 2ms/sample - loss: 0.4358 - accuracy: 0.8097 - val_loss: 3.0313 - val_accuracy: 0.5912\n",
      "Epoch 454/500\n",
      "4998/4998 [==============================] - 11s 2ms/sample - loss: 0.4467 - accuracy: 0.8089 - val_loss: 2.9900 - val_accuracy: 0.5912\n",
      "Epoch 455/500\n",
      "4998/4998 [==============================] - 11s 2ms/sample - loss: 0.4368 - accuracy: 0.8157 - val_loss: 2.9401 - val_accuracy: 0.5900\n",
      "Epoch 456/500\n",
      "4998/4998 [==============================] - 11s 2ms/sample - loss: 0.4445 - accuracy: 0.8153 - val_loss: 3.2035 - val_accuracy: 0.5651\n",
      "Epoch 457/500\n",
      "4998/4998 [==============================] - 10s 2ms/sample - loss: 0.4479 - accuracy: 0.8099 - val_loss: 3.0385 - val_accuracy: 0.6048\n",
      "Epoch 458/500\n",
      "4998/4998 [==============================] - 11s 2ms/sample - loss: 0.4396 - accuracy: 0.8151 - val_loss: 3.2186 - val_accuracy: 0.6025\n",
      "Epoch 459/500\n",
      "4998/4998 [==============================] - 11s 2ms/sample - loss: 0.4476 - accuracy: 0.8061 - val_loss: 3.0203 - val_accuracy: 0.6093\n",
      "Epoch 460/500\n",
      "4998/4998 [==============================] - 11s 2ms/sample - loss: 0.4335 - accuracy: 0.8129 - val_loss: 3.0216 - val_accuracy: 0.6138\n",
      "Epoch 461/500\n",
      "4998/4998 [==============================] - 11s 2ms/sample - loss: 0.4305 - accuracy: 0.8169 - val_loss: 3.0505 - val_accuracy: 0.6104\n",
      "Epoch 462/500\n",
      "4998/4998 [==============================] - 11s 2ms/sample - loss: 0.4438 - accuracy: 0.8107 - val_loss: 3.0439 - val_accuracy: 0.6036\n",
      "Epoch 463/500\n",
      "4998/4998 [==============================] - 11s 2ms/sample - loss: 0.4413 - accuracy: 0.8181 - val_loss: 2.9497 - val_accuracy: 0.6172\n",
      "Epoch 464/500\n",
      "4998/4998 [==============================] - 11s 2ms/sample - loss: 0.4501 - accuracy: 0.8103 - val_loss: 2.9164 - val_accuracy: 0.6127\n",
      "Epoch 465/500\n",
      "4998/4998 [==============================] - 11s 2ms/sample - loss: 0.4327 - accuracy: 0.8125 - val_loss: 2.8868 - val_accuracy: 0.6082\n",
      "Epoch 466/500\n",
      "4998/4998 [==============================] - 11s 2ms/sample - loss: 0.4340 - accuracy: 0.8175 - val_loss: 2.9462 - val_accuracy: 0.5889\n",
      "Epoch 467/500\n",
      "4998/4998 [==============================] - 11s 2ms/sample - loss: 0.4449 - accuracy: 0.8161 - val_loss: 2.8532 - val_accuracy: 0.6082\n",
      "Epoch 468/500\n",
      "4998/4998 [==============================] - 10s 2ms/sample - loss: 0.4305 - accuracy: 0.8151 - val_loss: 3.1051 - val_accuracy: 0.5980\n",
      "Epoch 469/500\n",
      "4998/4998 [==============================] - 11s 2ms/sample - loss: 0.4418 - accuracy: 0.8119 - val_loss: 3.0180 - val_accuracy: 0.5912\n",
      "Epoch 470/500\n",
      "4998/4998 [==============================] - 11s 2ms/sample - loss: 0.4624 - accuracy: 0.8153 - val_loss: 3.0593 - val_accuracy: 0.5696\n",
      "Epoch 471/500\n",
      "4998/4998 [==============================] - 11s 2ms/sample - loss: 0.4351 - accuracy: 0.8179 - val_loss: 2.8889 - val_accuracy: 0.6138\n",
      "Epoch 472/500\n",
      "4998/4998 [==============================] - 11s 2ms/sample - loss: 0.4392 - accuracy: 0.8081 - val_loss: 2.9574 - val_accuracy: 0.5957\n",
      "Epoch 473/500\n",
      "4998/4998 [==============================] - 11s 2ms/sample - loss: 0.4436 - accuracy: 0.8143 - val_loss: 3.0929 - val_accuracy: 0.5934\n",
      "Epoch 474/500\n",
      "4998/4998 [==============================] - 11s 2ms/sample - loss: 0.4420 - accuracy: 0.8155 - val_loss: 2.9820 - val_accuracy: 0.5968\n",
      "Epoch 475/500\n",
      "4998/4998 [==============================] - 11s 2ms/sample - loss: 0.4413 - accuracy: 0.8181 - val_loss: 3.0419 - val_accuracy: 0.6104\n",
      "Epoch 476/500\n",
      "4998/4998 [==============================] - 11s 2ms/sample - loss: 0.4371 - accuracy: 0.8141 - val_loss: 3.0255 - val_accuracy: 0.6048\n",
      "Epoch 477/500\n",
      "4998/4998 [==============================] - 11s 2ms/sample - loss: 0.4372 - accuracy: 0.8181 - val_loss: 3.0227 - val_accuracy: 0.5980\n",
      "Epoch 478/500\n",
      "4998/4998 [==============================] - 11s 2ms/sample - loss: 0.4387 - accuracy: 0.8117 - val_loss: 3.1554 - val_accuracy: 0.5878\n",
      "Epoch 479/500\n",
      "4998/4998 [==============================] - 10s 2ms/sample - loss: 0.4399 - accuracy: 0.8133 - val_loss: 3.1798 - val_accuracy: 0.6059\n",
      "Epoch 480/500\n",
      "4998/4998 [==============================] - 10s 2ms/sample - loss: 0.4305 - accuracy: 0.8167 - val_loss: 3.0704 - val_accuracy: 0.6104\n",
      "Epoch 481/500\n",
      "4998/4998 [==============================] - 11s 2ms/sample - loss: 0.4384 - accuracy: 0.8121 - val_loss: 3.0343 - val_accuracy: 0.6048\n",
      "Epoch 482/500\n",
      "4998/4998 [==============================] - 11s 2ms/sample - loss: 0.4435 - accuracy: 0.8163 - val_loss: 3.0366 - val_accuracy: 0.6285\n",
      "Epoch 483/500\n",
      "4998/4998 [==============================] - 11s 2ms/sample - loss: 0.4179 - accuracy: 0.8169 - val_loss: 3.0352 - val_accuracy: 0.5957\n",
      "Epoch 484/500\n",
      "4998/4998 [==============================] - 11s 2ms/sample - loss: 0.4443 - accuracy: 0.8097 - val_loss: 2.9917 - val_accuracy: 0.5878\n",
      "Epoch 485/500\n",
      "4998/4998 [==============================] - 11s 2ms/sample - loss: 0.4215 - accuracy: 0.8233 - val_loss: 3.1176 - val_accuracy: 0.5934\n",
      "Epoch 486/500\n",
      "4998/4998 [==============================] - 11s 2ms/sample - loss: 0.4328 - accuracy: 0.8139 - val_loss: 3.1675 - val_accuracy: 0.5685\n",
      "Epoch 487/500\n",
      "4998/4998 [==============================] - 11s 2ms/sample - loss: 0.4362 - accuracy: 0.8179 - val_loss: 3.0850 - val_accuracy: 0.6059\n",
      "Epoch 488/500\n",
      "4998/4998 [==============================] - 11s 2ms/sample - loss: 0.4295 - accuracy: 0.8197 - val_loss: 3.2086 - val_accuracy: 0.5889\n",
      "Epoch 489/500\n",
      "4998/4998 [==============================] - 11s 2ms/sample - loss: 0.4268 - accuracy: 0.8207 - val_loss: 3.0638 - val_accuracy: 0.6149\n",
      "Epoch 490/500\n",
      "4998/4998 [==============================] - 11s 2ms/sample - loss: 0.4170 - accuracy: 0.8125 - val_loss: 2.9489 - val_accuracy: 0.5968\n",
      "Epoch 491/500\n",
      "4998/4998 [==============================] - 10s 2ms/sample - loss: 0.4378 - accuracy: 0.8139 - val_loss: 3.1233 - val_accuracy: 0.6104\n",
      "Epoch 492/500\n",
      "4998/4998 [==============================] - 11s 2ms/sample - loss: 0.4420 - accuracy: 0.8133 - val_loss: 3.0184 - val_accuracy: 0.6104\n",
      "Epoch 493/500\n",
      "4998/4998 [==============================] - 11s 2ms/sample - loss: 0.4268 - accuracy: 0.8121 - val_loss: 3.2867 - val_accuracy: 0.6116\n",
      "Epoch 494/500\n",
      "4998/4998 [==============================] - 11s 2ms/sample - loss: 0.4257 - accuracy: 0.8181 - val_loss: 2.9636 - val_accuracy: 0.6104\n",
      "Epoch 495/500\n",
      "4998/4998 [==============================] - 11s 2ms/sample - loss: 0.4227 - accuracy: 0.8197 - val_loss: 3.0825 - val_accuracy: 0.6104\n",
      "Epoch 496/500\n",
      "4998/4998 [==============================] - 11s 2ms/sample - loss: 0.4313 - accuracy: 0.8203 - val_loss: 3.1011 - val_accuracy: 0.6002\n",
      "Epoch 497/500\n",
      "4998/4998 [==============================] - 11s 2ms/sample - loss: 0.4124 - accuracy: 0.8211 - val_loss: 3.2401 - val_accuracy: 0.5685\n",
      "Epoch 498/500\n",
      "4998/4998 [==============================] - 11s 2ms/sample - loss: 0.4406 - accuracy: 0.8127 - val_loss: 3.0311 - val_accuracy: 0.6161\n",
      "Epoch 499/500\n",
      "4998/4998 [==============================] - 11s 2ms/sample - loss: 0.4290 - accuracy: 0.8163 - val_loss: 3.2299 - val_accuracy: 0.5821\n",
      "Epoch 500/500\n",
      "4998/4998 [==============================] - 11s 2ms/sample - loss: 0.4403 - accuracy: 0.8099 - val_loss: 3.0965 - val_accuracy: 0.6172\n"
     ]
    }
   ],
   "source": [
    "# train the model\n",
    "\n",
    "history = modelFF.fit(X_train_np, y_train.values.ravel(), epochs = 500, batch_size = 1, validation_split= 0.15)"
   ]
  },
  {
   "cell_type": "code",
   "execution_count": 60,
   "metadata": {},
   "outputs": [],
   "source": [
    "# save the model, old version h5\n",
    "modelFF.save(\"modelli_salvati/UCI_FeedForward20220519.h5\")"
   ]
  },
  {
   "cell_type": "code",
   "execution_count": 61,
   "metadata": {},
   "outputs": [
    {
     "name": "stdout",
     "output_type": "stream",
     "text": [
      "WARNING:tensorflow:From /home/giacomo/anaconda3/lib/python3.7/site-packages/tensorflow_core/python/ops/resource_variable_ops.py:1781: calling BaseResourceVariable.__init__ (from tensorflow.python.ops.resource_variable_ops) with constraint is deprecated and will be removed in a future version.\n",
      "Instructions for updating:\n",
      "If using Keras pass *_constraint arguments to layers.\n",
      "INFO:tensorflow:Assets written to: modelli_salvati/UCI_FeedForward20220519/assets\n"
     ]
    }
   ],
   "source": [
    "# save the model, new\n",
    "modelFF.save(\"modelli_salvati/UCI_FeedForward20220519\")"
   ]
  },
  {
   "cell_type": "code",
   "execution_count": 34,
   "metadata": {},
   "outputs": [],
   "source": [
    "# is possible to load the model previously saved\n",
    "\n",
    "# modelFF = keras.models.load_model(\"modelli_salvati/UCI_FeedForward20220310.h5\")"
   ]
  },
  {
   "cell_type": "code",
   "execution_count": 62,
   "metadata": {},
   "outputs": [
    {
     "name": "stdout",
     "output_type": "stream",
     "text": [
      "tensorflow standard model is 92616 bytes\n"
     ]
    }
   ],
   "source": [
    "# Size of tensorflow's standard model\n",
    "\n",
    "import os\n",
    "standard_model_size = os.path.getsize(\"modelli_salvati/UCI_FeedForward20220519.h5\")\n",
    "print(\"tensorflow standard model is %d bytes\" % standard_model_size)"
   ]
  },
  {
   "cell_type": "code",
   "execution_count": 63,
   "metadata": {},
   "outputs": [
    {
     "data": {
      "text/plain": [
       "{'batch_size': 1,\n",
       " 'epochs': 500,\n",
       " 'steps': 4998,\n",
       " 'samples': 4998,\n",
       " 'verbose': 0,\n",
       " 'do_validation': True,\n",
       " 'metrics': ['loss', 'accuracy', 'val_loss', 'val_accuracy']}"
      ]
     },
     "execution_count": 63,
     "metadata": {},
     "output_type": "execute_result"
    }
   ],
   "source": [
    "# Parameters\n",
    "\n",
    "history.params"
   ]
  },
  {
   "cell_type": "code",
   "execution_count": 65,
   "metadata": {},
   "outputs": [
    {
     "data": {
      "image/png": "[encoded data removed]",
      "text/plain": [
       "<Figure size 1152x576 with 1 Axes>"
      ]
     },
     "metadata": {
      "needs_background": "light"
     },
     "output_type": "display_data"
    }
   ],
   "source": [
    "# plot the learning curves\n",
    "\n",
    "pd.DataFrame(history.history).plot(figsize=(16, 8))\n",
    "plt.grid(True)\n",
    "plt.gca().set_ylim(0.3, 3.5)\n",
    "plt.show()"
   ]
  },
  {
   "cell_type": "code",
   "execution_count": 66,
   "metadata": {},
   "outputs": [
    {
     "name": "stdout",
     "output_type": "stream",
     "text": [
      "tensorflowlite standard model is 21612 bytes\n"
     ]
    }
   ],
   "source": [
    "# Convert the trainee model to the tensorflow lite format without quantization\n",
    "\n",
    "# Convert the model to the TensorFlow Lite format without quantization\n",
    "converter = tf.lite.TFLiteConverter.from_keras_model(modelFF)\n",
    "tflite_model = converter.convert()\n",
    "\n",
    "# Save the model to disk (path: tflite_model)\n",
    "open(\"tflite_model/UCI_FeedForward20220519.tflite\", \"wb\").write(tflite_model)\n",
    "  \n",
    "# Size of tflite model\n",
    "import os\n",
    "basic_tflite_model_size = os.path.getsize(\"tflite_model/UCI_FeedForward20220519.tflite\")\n",
    "print(\"tensorflowlite standard model is %d bytes\" % basic_tflite_model_size)"
   ]
  },
  {
   "cell_type": "code",
   "execution_count": 67,
   "metadata": {},
   "outputs": [],
   "source": [
    "# model quantization\n",
    "\n",
    "import tensorflow as tf\n",
    "\n",
    "converter = tf.lite.TFLiteConverter.from_saved_model(\"/home/giacomo/Documenti/Doc_Uni_new/Sistemi_context_aware/Progetto/Jupyter_notebook/modelli_salvati/UCI_FeedForward20220519\")\n",
    "\n",
    "converter.optimizations = [tf.lite.Optimize.DEFAULT]\n",
    "converter.target_spec.supported_types = [tf.float16]\n",
    "\n",
    "tflite_quant_model = converter.convert()"
   ]
  },
  {
   "cell_type": "code",
   "execution_count": 68,
   "metadata": {},
   "outputs": [
    {
     "name": "stdout",
     "output_type": "stream",
     "text": [
      "Quantized model is 12760 bytes\n"
     ]
    }
   ],
   "source": [
    "# Size of tflite quantized model\n",
    "\n",
    "# Save the model to disk\n",
    "open(\"tflite_model/FeedForward20220519_quantized.tflite\", \"wb\").write(tflite_quant_model)\n",
    "  \n",
    "#import os\n",
    "quantized_model_size = os.path.getsize(\"tflite_model/FeedForward20220519_quantized.tflite\")\n",
    "print(\"Quantized model is %d bytes\" % quantized_model_size)"
   ]
  },
  {
   "cell_type": "code",
   "execution_count": 69,
   "metadata": {},
   "outputs": [
    {
     "data": {
      "text/plain": [
       "array([[1.1235308e-03, 5.5949849e-01, 4.3937793e-01, 6.6254388e-28,\n",
       "        3.5805412e-29, 3.1874924e-36],\n",
       "       [8.7221932e-01, 1.0221389e-03, 5.7596644e-05, 1.3402172e-08,\n",
       "        5.1729421e-06, 1.2669571e-01],\n",
       "       [1.2445904e-10, 4.9642044e-01, 5.0357956e-01, 3.0361418e-21,\n",
       "        2.5524449e-24, 2.7017088e-21],\n",
       "       [6.0859069e-02, 9.3823111e-01, 5.6965686e-08, 2.9115779e-07,\n",
       "        9.0892642e-04, 4.2470165e-07],\n",
       "       [1.9224045e-03, 1.8742388e-09, 8.0978742e-07, 3.0034164e-01,\n",
       "        6.6047883e-01, 3.7256353e-02]], dtype=float32)"
      ]
     },
     "execution_count": 69,
     "metadata": {},
     "output_type": "execute_result"
    }
   ],
   "source": [
    "# Standard model: modelFF\n",
    "# Base tflite model: tflite_model\n",
    "# Quantized model: tflite_quant_model\n",
    "\n",
    "import sklearn.metrics\n",
    "\n",
    "# Prediction\n",
    "result_standard_model = modelFF.predict(X_test_np)\n",
    "\n",
    "result_standard_model[:5,:]"
   ]
  },
  {
   "cell_type": "code",
   "execution_count": 70,
   "metadata": {},
   "outputs": [
    {
     "name": "stdout",
     "output_type": "stream",
     "text": [
      "      0\n",
      "1729  2\n",
      "4324  0\n",
      "5457  1\n",
      "85    0\n",
      "5960  5\n",
      "3311  3\n",
      "3052  4\n",
      "3710  5\n",
      "288   0\n",
      "778   0\n"
     ]
    }
   ],
   "source": [
    "print(y_test.iloc[:10,:])"
   ]
  },
  {
   "cell_type": "code",
   "execution_count": 71,
   "metadata": {},
   "outputs": [],
   "source": [
    "# for each row select the classes with the highest probability\n",
    "\n",
    "y_result = np.argmax(result_standard_model, axis=1)"
   ]
  },
  {
   "cell_type": "code",
   "execution_count": 72,
   "metadata": {},
   "outputs": [
    {
     "data": {
      "text/plain": [
       "array([1, 0, 2, 1, 4, 4, 5, 5, 1, 0])"
      ]
     },
     "execution_count": 72,
     "metadata": {},
     "output_type": "execute_result"
    }
   ],
   "source": [
    "y_result[:10]"
   ]
  },
  {
   "cell_type": "code",
   "execution_count": 73,
   "metadata": {},
   "outputs": [
    {
     "name": "stdout",
     "output_type": "stream",
     "text": [
      "Accuracy standard tf model:  0.6363018354860639\n"
     ]
    }
   ],
   "source": [
    "# Compute the accuracy\n",
    "\n",
    "accuracy = sklearn.metrics.accuracy_score(y_test_np, y_result)\n",
    "\n",
    "print(\"Accuracy standard tf model: \", accuracy)"
   ]
  },
  {
   "cell_type": "code",
   "execution_count": 74,
   "metadata": {},
   "outputs": [
    {
     "name": "stdout",
     "output_type": "stream",
     "text": [
      "[[132  31  20   9  20  14]\n",
      " [ 25 136  49   1   7   7]\n",
      " [ 39  41 121   1   5   6]\n",
      " [  5   2   3 175  35  50]\n",
      " [ 16   3   1  59 160  23]\n",
      " [  8   8   1  28  18 212]]\n"
     ]
    }
   ],
   "source": [
    "# Confusion Matrix\n",
    "\n",
    "confmatrix = sklearn.metrics.confusion_matrix(y_test_np, y_result)\n",
    "print(confmatrix)"
   ]
  },
  {
   "cell_type": "code",
   "execution_count": 75,
   "metadata": {},
   "outputs": [],
   "source": [
    "# Prediction using tflite: \n",
    "\n",
    "# Load the TFLite model and allocate tensors.\n",
    "interpreter = tf.lite.Interpreter(model_content=tflite_model)\n",
    "interpreter.allocate_tensors()"
   ]
  },
  {
   "cell_type": "code",
   "execution_count": 76,
   "metadata": {},
   "outputs": [],
   "source": [
    "# Get input and output tensors.\n",
    "\n",
    "input_details = interpreter.get_input_details()\n",
    "output_details = interpreter.get_output_details()"
   ]
  },
  {
   "cell_type": "code",
   "execution_count": 77,
   "metadata": {},
   "outputs": [
    {
     "name": "stdout",
     "output_type": "stream",
     "text": [
      "[{'name': 'dense_12_input', 'index': 1, 'shape': array([1, 6], dtype=int32), 'dtype': <class 'numpy.float32'>, 'quantization': (0.0, 0)}]\n"
     ]
    }
   ],
   "source": [
    "print(input_details)"
   ]
  },
  {
   "cell_type": "code",
   "execution_count": 78,
   "metadata": {},
   "outputs": [
    {
     "data": {
      "text/plain": [
       "{'name': 'dense_12_input',\n",
       " 'index': 1,\n",
       " 'shape': array([1, 6], dtype=int32),\n",
       " 'dtype': numpy.float32,\n",
       " 'quantization': (0.0, 0)}"
      ]
     },
     "execution_count": 78,
     "metadata": {},
     "output_type": "execute_result"
    }
   ],
   "source": [
    "input_details[0]"
   ]
  },
  {
   "cell_type": "code",
   "execution_count": 79,
   "metadata": {},
   "outputs": [
    {
     "data": {
      "text/plain": [
       "dtype('float32')"
      ]
     },
     "execution_count": 79,
     "metadata": {},
     "output_type": "execute_result"
    }
   ],
   "source": [
    "# change the dtype to 'float32'\n",
    "\n",
    "X_test_np_32 = X_test_np.astype('float32')\n",
    "X_test_np_32.dtype"
   ]
  },
  {
   "cell_type": "code",
   "execution_count": 80,
   "metadata": {},
   "outputs": [
    {
     "data": {
      "text/plain": [
       "array([ 0.3201558 , -0.02365911, -0.0636547 ,  0.35397047, -0.25719276,\n",
       "        0.06729465], dtype=float32)"
      ]
     },
     "execution_count": 80,
     "metadata": {},
     "output_type": "execute_result"
    }
   ],
   "source": [
    "X_test_np_32[0]"
   ]
  },
  {
   "cell_type": "code",
   "execution_count": 81,
   "metadata": {},
   "outputs": [
    {
     "data": {
      "text/plain": [
       "[{'name': 'Identity',\n",
       "  'index': 0,\n",
       "  'shape': array([1, 6], dtype=int32),\n",
       "  'dtype': numpy.float32,\n",
       "  'quantization': (0.0, 0)}]"
      ]
     },
     "execution_count": 81,
     "metadata": {},
     "output_type": "execute_result"
    }
   ],
   "source": [
    "output_details"
   ]
  },
  {
   "cell_type": "code",
   "execution_count": 82,
   "metadata": {},
   "outputs": [
    {
     "data": {
      "text/plain": [
       "1471"
      ]
     },
     "execution_count": 82,
     "metadata": {},
     "output_type": "execute_result"
    }
   ],
   "source": [
    "size = X_test_np_32.shape[0]\n",
    "size"
   ]
  },
  {
   "cell_type": "code",
   "execution_count": 83,
   "metadata": {},
   "outputs": [
    {
     "data": {
      "text/plain": [
       "[]"
      ]
     },
     "execution_count": 83,
     "metadata": {},
     "output_type": "execute_result"
    }
   ],
   "source": [
    "# Array used for tflite model classes prediction\n",
    "\n",
    "result_tflite = []\n",
    "result_tflite"
   ]
  },
  {
   "cell_type": "code",
   "execution_count": 84,
   "metadata": {},
   "outputs": [
    {
     "name": "stdout",
     "output_type": "stream",
     "text": [
      "[[0.0000000e+00 0.0000000e+00 0.0000000e+00 9.7487305e-07 0.0000000e+00\n",
      "  9.9999905e-01]]\n",
      "float64\n"
     ]
    }
   ],
   "source": [
    "# prediction's loop\n",
    "\n",
    "for i in range (size) :\n",
    "    value_reshaped = X_test_np_32[i].reshape(1,6)\n",
    "    interpreter.set_tensor(input_details[0]['index'], value_reshaped)\n",
    "    interpreter.invoke()\n",
    "    output_data = interpreter.get_tensor(output_details[0]['index'])\n",
    "    result_tflite = np.append(result_tflite, np.argmax(output_data, axis=1))\n",
    "\n",
    "    \n",
    "print(output_data)\n",
    "print(result_tflite.dtype)"
   ]
  },
  {
   "cell_type": "code",
   "execution_count": 85,
   "metadata": {},
   "outputs": [
    {
     "data": {
      "text/plain": [
       "array([1., 0., 2., 1., 4., 4., 5., 5., 1., 0.])"
      ]
     },
     "execution_count": 85,
     "metadata": {},
     "output_type": "execute_result"
    }
   ],
   "source": [
    "result_tflite[:10]"
   ]
  },
  {
   "cell_type": "code",
   "execution_count": 86,
   "metadata": {},
   "outputs": [
    {
     "name": "stdout",
     "output_type": "stream",
     "text": [
      "Accuracy tflite model:  0.6363018354860639\n"
     ]
    }
   ],
   "source": [
    "# Compute accuracy of TFlite model\n",
    "\n",
    "acc_tflite = sklearn.metrics.accuracy_score(y_test, result_tflite)\n",
    "print(\"Accuracy tflite model: \", acc_tflite)"
   ]
  },
  {
   "cell_type": "code",
   "execution_count": 87,
   "metadata": {},
   "outputs": [
    {
     "name": "stdout",
     "output_type": "stream",
     "text": [
      "[[132  31  20   9  20  14]\n",
      " [ 25 136  49   1   7   7]\n",
      " [ 39  41 121   1   5   6]\n",
      " [  5   2   3 175  35  50]\n",
      " [ 16   3   1  59 160  23]\n",
      " [  8   8   1  28  18 212]]\n"
     ]
    }
   ],
   "source": [
    "confmatrix_tflite_model = sklearn.metrics.confusion_matrix(y_test, result_tflite)\n",
    "print(confmatrix_tflite_model)"
   ]
  },
  {
   "cell_type": "code",
   "execution_count": 88,
   "metadata": {},
   "outputs": [],
   "source": [
    "## prediction using the quantized model\n",
    "## tflite_quant_model\n",
    "\n",
    "# Load the TFLite model and allocate tensors.\n",
    "interpreter_q = tf.lite.Interpreter(model_content=tflite_quant_model)\n",
    "interpreter_q.allocate_tensors()"
   ]
  },
  {
   "cell_type": "code",
   "execution_count": 89,
   "metadata": {},
   "outputs": [],
   "source": [
    "# Get input and output tensors for .\n",
    "\n",
    "input_details = interpreter_q.get_input_details()\n",
    "output_details = interpreter_q.get_output_details()"
   ]
  },
  {
   "cell_type": "code",
   "execution_count": 90,
   "metadata": {},
   "outputs": [
    {
     "data": {
      "text/plain": [
       "{'name': 'dense_12_input',\n",
       " 'index': 10,\n",
       " 'shape': array([1, 6], dtype=int32),\n",
       " 'dtype': numpy.float32,\n",
       " 'quantization': (0.0, 0)}"
      ]
     },
     "execution_count": 90,
     "metadata": {},
     "output_type": "execute_result"
    }
   ],
   "source": [
    "input_details[0]"
   ]
  },
  {
   "cell_type": "code",
   "execution_count": 91,
   "metadata": {},
   "outputs": [],
   "source": [
    "# Array with tflite model classes prediction\n",
    "\n",
    "result_quant_tflite = []"
   ]
  },
  {
   "cell_type": "code",
   "execution_count": 92,
   "metadata": {},
   "outputs": [
    {
     "name": "stdout",
     "output_type": "stream",
     "text": [
      "[[0.0000000e+00 0.0000000e+00 0.0000000e+00 1.1776898e-06 0.0000000e+00\n",
      "  9.9999881e-01]]\n",
      "float64\n"
     ]
    }
   ],
   "source": [
    "for i in range (size) :\n",
    "    value_reshaped = X_test_np_32[i].reshape(1,6)\n",
    "    interpreter_q.set_tensor(input_details[0]['index'], value_reshaped)\n",
    "    interpreter_q.invoke()\n",
    "    output_data = interpreter_q.get_tensor(output_details[0]['index'])\n",
    "    result_quant_tflite = np.append(result_quant_tflite, np.argmax(output_data, axis=1))\n",
    "    \n",
    "print(output_data)\n",
    "print(result_quant_tflite.dtype)"
   ]
  },
  {
   "cell_type": "code",
   "execution_count": 93,
   "metadata": {},
   "outputs": [
    {
     "name": "stdout",
     "output_type": "stream",
     "text": [
      "Accuracy tflite quant model:  0.6356220258327668\n"
     ]
    }
   ],
   "source": [
    "# Compute accuracy of TFlite quantized model\n",
    "\n",
    "import sklearn.metrics\n",
    "\n",
    "acc_quant_tflite = sklearn.metrics.accuracy_score(y_test, result_quant_tflite)\n",
    "print(\"Accuracy tflite quant model: \", acc_quant_tflite)"
   ]
  },
  {
   "cell_type": "code",
   "execution_count": 94,
   "metadata": {},
   "outputs": [
    {
     "name": "stdout",
     "output_type": "stream",
     "text": [
      "[[131  30  22   9  20  14]\n",
      " [ 25 136  49   1   7   7]\n",
      " [ 39  41 121   1   5   6]\n",
      " [  5   2   3 175  35  50]\n",
      " [ 17   3   0  58 160  24]\n",
      " [  7   8   1  29  18 212]]\n"
     ]
    }
   ],
   "source": [
    "confmatrix_quant_tflite_model = sklearn.metrics.confusion_matrix(y_test, result_quant_tflite)\n",
    "print(confmatrix_quant_tflite_model)"
   ]
  },
  {
   "cell_type": "code",
   "execution_count": 95,
   "metadata": {},
   "outputs": [
    {
     "name": "stdout",
     "output_type": "stream",
     "text": [
      "Accuracy standard tf model:  \t 0.6363018354860639\n",
      "Accuracy tflite model:  \t 0.6363018354860639\n",
      "Accuracy tflite quant model:  \t 0.6356220258327668\n"
     ]
    }
   ],
   "source": [
    "# Accuracies recap:\n",
    "\n",
    "# tf model\n",
    "#accuracy = sklearn.metrics.accuracy_score(y_test, result_standard_model)\n",
    "print(\"Accuracy standard tf model: \", '\\t', accuracy)\n",
    "\n",
    "# tf lite model\n",
    "#acc_tflite = sklearn.metrics.accuracy_score(y_test, result_tflite)\n",
    "print(\"Accuracy tflite model: \",  '\\t', acc_tflite)\n",
    "\n",
    "# tf lite quant model\n",
    "#acc_quant_tflite = sklearn.metrics.accuracy_score(y_test, result_quant_tflite)\n",
    "print(\"Accuracy tflite quant model: \", '\\t',  acc_quant_tflite)\n"
   ]
  },
  {
   "cell_type": "code",
   "execution_count": 96,
   "metadata": {},
   "outputs": [
    {
     "name": "stdout",
     "output_type": "stream",
     "text": [
      "tensorflow standard model is 92616 bytes\n",
      "tensorflowlite standard model is 21612 bytes\n",
      "tensorflowlite Quantized model is 12760 bytes\n"
     ]
    }
   ],
   "source": [
    "# Recap model's dimensions :\n",
    "\n",
    "print(\"tensorflow standard model is %d bytes\" % standard_model_size)\n",
    "print(\"tensorflowlite standard model is %d bytes\" % basic_tflite_model_size)\n",
    "print(\"tensorflowlite Quantized model is %d bytes\" % quantized_model_size)"
   ]
  },
  {
   "cell_type": "code",
   "execution_count": null,
   "metadata": {},
   "outputs": [],
   "source": []
  }
 ],
 "metadata": {
  "kernelspec": {
   "display_name": "Python 3",
   "language": "python",
   "name": "python3"
  },
  "language_info": {
   "codemirror_mode": {
    "name": "ipython",
    "version": 3
   },
   "file_extension": ".py",
   "mimetype": "text/x-python",
   "name": "python",
   "nbconvert_exporter": "python",
   "pygments_lexer": "ipython3",
   "version": "3.7.3"
  }
 },
 "nbformat": 4,
 "nbformat_minor": 2
}
